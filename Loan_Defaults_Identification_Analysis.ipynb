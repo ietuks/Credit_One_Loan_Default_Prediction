{
 "cells": [
  {
   "cell_type": "markdown",
   "metadata": {},
   "source": [
    "This project was design to help me get familiarize with using Python for Data Science projects.\n",
    "It's a data scientist approach to a common problem affecting most creditors in the financial sector.\n",
    "\n",
    "## Background:\n",
    "\n",
    "Over the past year or so Credit One has seen an increase in the number of customers who have defaulted on loans they have secured from various partners, and Credit One, as their credit scoring service, could risk losing business if the problem is not solved right immediately. They have enlisted the help of our Data Science team to design and implement a creative, empirically sound solution. Due to the magnitude of the problem and its urgency, we have been given full authority to solve this problem with whatever tools and methods needed. As such, this problem was treated different from a typical data analytic problem. We've elected to use Python and a few different libraries to do the heavy lifting for us. We'll be using a few main libraries for the bulk of our work, but by no means intend to be limited to only using those. Other libraries and tools will be explored to obtain the best solution within shortest possible time.\n",
    " \n",
    "As highlighted in the data science process framework, first thing is to define the problem and understand the differences between this data science project and regular data analytic projects. Secondly, a dedicated local programming environment is will be establised where GitHub will be utilize to aid with work performance without needing to be in one space or another to have access to the needed tools, before finally starting the analysis and solving this problem."
   ]
  },
  {
   "cell_type": "markdown",
   "metadata": {},
   "source": [
    "# Business Problem:\n",
    "1. Increase in customer default rates - This is bad for Credit One since Credit One approves the customers for loans\n",
    "   in the first place.\n",
    "2. Revenue and customer loss for clients and, eventually, loss of clients for Credit One\n",
    "\n",
    "## Investigative Questions:\n",
    "How can we ensure that customers can/will pay their loans? Is this possible?\n",
    " \n",
    "## Considering Credit One lessons learned from a similar problem addressed in the previous year:\n",
    "1. We cannot control customer spending habits\n",
    "2. We cannot always go from what we find in our analysis to the underlying \"why\"\n",
    "3. We must on the problem(s) we can solve: What attributes in the data can we deem to be statistically significant \n",
    "   to the problem at hand?\n",
    "4. What concrete information can we derive from the data we have?\n",
    "5. What proven methods can we use to uncover more information and why?\n",
    "\n",
    "# Load Data"
   ]
  },
  {
   "cell_type": "code",
   "execution_count": 1,
   "metadata": {},
   "outputs": [],
   "source": [
    "import pandas as pd"
   ]
  },
  {
   "cell_type": "code",
   "execution_count": 2,
   "metadata": {},
   "outputs": [],
   "source": [
    "LoanFile = pd.read_csv(r\"C:\\Users\\ietuk\\Documents\\gitHub_Python\\default _credit_card_clients.csv\", header=1)"
   ]
  },
  {
   "cell_type": "code",
   "execution_count": 3,
   "metadata": {},
   "outputs": [
    {
     "data": {
      "text/html": [
       "<div>\n",
       "<style scoped>\n",
       "    .dataframe tbody tr th:only-of-type {\n",
       "        vertical-align: middle;\n",
       "    }\n",
       "\n",
       "    .dataframe tbody tr th {\n",
       "        vertical-align: top;\n",
       "    }\n",
       "\n",
       "    .dataframe thead th {\n",
       "        text-align: right;\n",
       "    }\n",
       "</style>\n",
       "<table border=\"1\" class=\"dataframe\">\n",
       "  <thead>\n",
       "    <tr style=\"text-align: right;\">\n",
       "      <th></th>\n",
       "      <th>ID</th>\n",
       "      <th>LIMIT_BAL</th>\n",
       "      <th>SEX</th>\n",
       "      <th>EDUCATION</th>\n",
       "      <th>MARRIAGE</th>\n",
       "      <th>AGE</th>\n",
       "      <th>PAY_0</th>\n",
       "      <th>PAY_2</th>\n",
       "      <th>PAY_3</th>\n",
       "      <th>PAY_4</th>\n",
       "      <th>...</th>\n",
       "      <th>BILL_AMT4</th>\n",
       "      <th>BILL_AMT5</th>\n",
       "      <th>BILL_AMT6</th>\n",
       "      <th>PAY_AMT1</th>\n",
       "      <th>PAY_AMT2</th>\n",
       "      <th>PAY_AMT3</th>\n",
       "      <th>PAY_AMT4</th>\n",
       "      <th>PAY_AMT5</th>\n",
       "      <th>PAY_AMT6</th>\n",
       "      <th>default payment next month</th>\n",
       "    </tr>\n",
       "  </thead>\n",
       "  <tbody>\n",
       "    <tr>\n",
       "      <th>0</th>\n",
       "      <td>1</td>\n",
       "      <td>20000</td>\n",
       "      <td>2</td>\n",
       "      <td>2</td>\n",
       "      <td>1</td>\n",
       "      <td>24</td>\n",
       "      <td>2</td>\n",
       "      <td>2</td>\n",
       "      <td>-1</td>\n",
       "      <td>-1</td>\n",
       "      <td>...</td>\n",
       "      <td>0</td>\n",
       "      <td>0</td>\n",
       "      <td>0</td>\n",
       "      <td>0</td>\n",
       "      <td>689</td>\n",
       "      <td>0</td>\n",
       "      <td>0</td>\n",
       "      <td>0</td>\n",
       "      <td>0</td>\n",
       "      <td>1</td>\n",
       "    </tr>\n",
       "    <tr>\n",
       "      <th>1</th>\n",
       "      <td>2</td>\n",
       "      <td>120000</td>\n",
       "      <td>2</td>\n",
       "      <td>2</td>\n",
       "      <td>2</td>\n",
       "      <td>26</td>\n",
       "      <td>-1</td>\n",
       "      <td>2</td>\n",
       "      <td>0</td>\n",
       "      <td>0</td>\n",
       "      <td>...</td>\n",
       "      <td>3272</td>\n",
       "      <td>3455</td>\n",
       "      <td>3261</td>\n",
       "      <td>0</td>\n",
       "      <td>1000</td>\n",
       "      <td>1000</td>\n",
       "      <td>1000</td>\n",
       "      <td>0</td>\n",
       "      <td>2000</td>\n",
       "      <td>1</td>\n",
       "    </tr>\n",
       "    <tr>\n",
       "      <th>2</th>\n",
       "      <td>3</td>\n",
       "      <td>90000</td>\n",
       "      <td>2</td>\n",
       "      <td>2</td>\n",
       "      <td>2</td>\n",
       "      <td>34</td>\n",
       "      <td>0</td>\n",
       "      <td>0</td>\n",
       "      <td>0</td>\n",
       "      <td>0</td>\n",
       "      <td>...</td>\n",
       "      <td>14331</td>\n",
       "      <td>14948</td>\n",
       "      <td>15549</td>\n",
       "      <td>1518</td>\n",
       "      <td>1500</td>\n",
       "      <td>1000</td>\n",
       "      <td>1000</td>\n",
       "      <td>1000</td>\n",
       "      <td>5000</td>\n",
       "      <td>0</td>\n",
       "    </tr>\n",
       "    <tr>\n",
       "      <th>3</th>\n",
       "      <td>4</td>\n",
       "      <td>50000</td>\n",
       "      <td>2</td>\n",
       "      <td>2</td>\n",
       "      <td>1</td>\n",
       "      <td>37</td>\n",
       "      <td>0</td>\n",
       "      <td>0</td>\n",
       "      <td>0</td>\n",
       "      <td>0</td>\n",
       "      <td>...</td>\n",
       "      <td>28314</td>\n",
       "      <td>28959</td>\n",
       "      <td>29547</td>\n",
       "      <td>2000</td>\n",
       "      <td>2019</td>\n",
       "      <td>1200</td>\n",
       "      <td>1100</td>\n",
       "      <td>1069</td>\n",
       "      <td>1000</td>\n",
       "      <td>0</td>\n",
       "    </tr>\n",
       "    <tr>\n",
       "      <th>4</th>\n",
       "      <td>5</td>\n",
       "      <td>50000</td>\n",
       "      <td>1</td>\n",
       "      <td>2</td>\n",
       "      <td>1</td>\n",
       "      <td>57</td>\n",
       "      <td>-1</td>\n",
       "      <td>0</td>\n",
       "      <td>-1</td>\n",
       "      <td>0</td>\n",
       "      <td>...</td>\n",
       "      <td>20940</td>\n",
       "      <td>19146</td>\n",
       "      <td>19131</td>\n",
       "      <td>2000</td>\n",
       "      <td>36681</td>\n",
       "      <td>10000</td>\n",
       "      <td>9000</td>\n",
       "      <td>689</td>\n",
       "      <td>679</td>\n",
       "      <td>0</td>\n",
       "    </tr>\n",
       "  </tbody>\n",
       "</table>\n",
       "<p>5 rows × 25 columns</p>\n",
       "</div>"
      ],
      "text/plain": [
       "   ID  LIMIT_BAL  SEX  EDUCATION  MARRIAGE  AGE  PAY_0  PAY_2  PAY_3  PAY_4  \\\n",
       "0   1      20000    2          2         1   24      2      2     -1     -1   \n",
       "1   2     120000    2          2         2   26     -1      2      0      0   \n",
       "2   3      90000    2          2         2   34      0      0      0      0   \n",
       "3   4      50000    2          2         1   37      0      0      0      0   \n",
       "4   5      50000    1          2         1   57     -1      0     -1      0   \n",
       "\n",
       "   ...  BILL_AMT4  BILL_AMT5  BILL_AMT6  PAY_AMT1  PAY_AMT2  PAY_AMT3  \\\n",
       "0  ...          0          0          0         0       689         0   \n",
       "1  ...       3272       3455       3261         0      1000      1000   \n",
       "2  ...      14331      14948      15549      1518      1500      1000   \n",
       "3  ...      28314      28959      29547      2000      2019      1200   \n",
       "4  ...      20940      19146      19131      2000     36681     10000   \n",
       "\n",
       "   PAY_AMT4  PAY_AMT5  PAY_AMT6  default payment next month  \n",
       "0         0         0         0                           1  \n",
       "1      1000         0      2000                           1  \n",
       "2      1000      1000      5000                           0  \n",
       "3      1100      1069      1000                           0  \n",
       "4      9000       689       679                           0  \n",
       "\n",
       "[5 rows x 25 columns]"
      ]
     },
     "execution_count": 3,
     "metadata": {},
     "output_type": "execute_result"
    }
   ],
   "source": [
    "LoanFile.head()"
   ]
  },
  {
   "cell_type": "code",
   "execution_count": 4,
   "metadata": {},
   "outputs": [
    {
     "data": {
      "text/html": [
       "<div>\n",
       "<style scoped>\n",
       "    .dataframe tbody tr th:only-of-type {\n",
       "        vertical-align: middle;\n",
       "    }\n",
       "\n",
       "    .dataframe tbody tr th {\n",
       "        vertical-align: top;\n",
       "    }\n",
       "\n",
       "    .dataframe thead th {\n",
       "        text-align: right;\n",
       "    }\n",
       "</style>\n",
       "<table border=\"1\" class=\"dataframe\">\n",
       "  <thead>\n",
       "    <tr style=\"text-align: right;\">\n",
       "      <th></th>\n",
       "      <th>ID</th>\n",
       "      <th>LIMIT_BAL</th>\n",
       "      <th>SEX</th>\n",
       "      <th>EDUCATION</th>\n",
       "      <th>MARRIAGE</th>\n",
       "      <th>AGE</th>\n",
       "      <th>PAY_0</th>\n",
       "      <th>PAY_2</th>\n",
       "      <th>PAY_3</th>\n",
       "      <th>PAY_4</th>\n",
       "      <th>...</th>\n",
       "      <th>BILL_AMT4</th>\n",
       "      <th>BILL_AMT5</th>\n",
       "      <th>BILL_AMT6</th>\n",
       "      <th>PAY_AMT1</th>\n",
       "      <th>PAY_AMT2</th>\n",
       "      <th>PAY_AMT3</th>\n",
       "      <th>PAY_AMT4</th>\n",
       "      <th>PAY_AMT5</th>\n",
       "      <th>PAY_AMT6</th>\n",
       "      <th>default payment next month</th>\n",
       "    </tr>\n",
       "  </thead>\n",
       "  <tbody>\n",
       "    <tr>\n",
       "      <th>29995</th>\n",
       "      <td>29996</td>\n",
       "      <td>220000</td>\n",
       "      <td>1</td>\n",
       "      <td>3</td>\n",
       "      <td>1</td>\n",
       "      <td>39</td>\n",
       "      <td>0</td>\n",
       "      <td>0</td>\n",
       "      <td>0</td>\n",
       "      <td>0</td>\n",
       "      <td>...</td>\n",
       "      <td>88004</td>\n",
       "      <td>31237</td>\n",
       "      <td>15980</td>\n",
       "      <td>8500</td>\n",
       "      <td>20000</td>\n",
       "      <td>5003</td>\n",
       "      <td>3047</td>\n",
       "      <td>5000</td>\n",
       "      <td>1000</td>\n",
       "      <td>0</td>\n",
       "    </tr>\n",
       "    <tr>\n",
       "      <th>29996</th>\n",
       "      <td>29997</td>\n",
       "      <td>150000</td>\n",
       "      <td>1</td>\n",
       "      <td>3</td>\n",
       "      <td>2</td>\n",
       "      <td>43</td>\n",
       "      <td>-1</td>\n",
       "      <td>-1</td>\n",
       "      <td>-1</td>\n",
       "      <td>-1</td>\n",
       "      <td>...</td>\n",
       "      <td>8979</td>\n",
       "      <td>5190</td>\n",
       "      <td>0</td>\n",
       "      <td>1837</td>\n",
       "      <td>3526</td>\n",
       "      <td>8998</td>\n",
       "      <td>129</td>\n",
       "      <td>0</td>\n",
       "      <td>0</td>\n",
       "      <td>0</td>\n",
       "    </tr>\n",
       "    <tr>\n",
       "      <th>29997</th>\n",
       "      <td>29998</td>\n",
       "      <td>30000</td>\n",
       "      <td>1</td>\n",
       "      <td>2</td>\n",
       "      <td>2</td>\n",
       "      <td>37</td>\n",
       "      <td>4</td>\n",
       "      <td>3</td>\n",
       "      <td>2</td>\n",
       "      <td>-1</td>\n",
       "      <td>...</td>\n",
       "      <td>20878</td>\n",
       "      <td>20582</td>\n",
       "      <td>19357</td>\n",
       "      <td>0</td>\n",
       "      <td>0</td>\n",
       "      <td>22000</td>\n",
       "      <td>4200</td>\n",
       "      <td>2000</td>\n",
       "      <td>3100</td>\n",
       "      <td>1</td>\n",
       "    </tr>\n",
       "    <tr>\n",
       "      <th>29998</th>\n",
       "      <td>29999</td>\n",
       "      <td>80000</td>\n",
       "      <td>1</td>\n",
       "      <td>3</td>\n",
       "      <td>1</td>\n",
       "      <td>41</td>\n",
       "      <td>1</td>\n",
       "      <td>-1</td>\n",
       "      <td>0</td>\n",
       "      <td>0</td>\n",
       "      <td>...</td>\n",
       "      <td>52774</td>\n",
       "      <td>11855</td>\n",
       "      <td>48944</td>\n",
       "      <td>85900</td>\n",
       "      <td>3409</td>\n",
       "      <td>1178</td>\n",
       "      <td>1926</td>\n",
       "      <td>52964</td>\n",
       "      <td>1804</td>\n",
       "      <td>1</td>\n",
       "    </tr>\n",
       "    <tr>\n",
       "      <th>29999</th>\n",
       "      <td>30000</td>\n",
       "      <td>50000</td>\n",
       "      <td>1</td>\n",
       "      <td>2</td>\n",
       "      <td>1</td>\n",
       "      <td>46</td>\n",
       "      <td>0</td>\n",
       "      <td>0</td>\n",
       "      <td>0</td>\n",
       "      <td>0</td>\n",
       "      <td>...</td>\n",
       "      <td>36535</td>\n",
       "      <td>32428</td>\n",
       "      <td>15313</td>\n",
       "      <td>2078</td>\n",
       "      <td>1800</td>\n",
       "      <td>1430</td>\n",
       "      <td>1000</td>\n",
       "      <td>1000</td>\n",
       "      <td>1000</td>\n",
       "      <td>1</td>\n",
       "    </tr>\n",
       "  </tbody>\n",
       "</table>\n",
       "<p>5 rows × 25 columns</p>\n",
       "</div>"
      ],
      "text/plain": [
       "          ID  LIMIT_BAL  SEX  EDUCATION  MARRIAGE  AGE  PAY_0  PAY_2  PAY_3  \\\n",
       "29995  29996     220000    1          3         1   39      0      0      0   \n",
       "29996  29997     150000    1          3         2   43     -1     -1     -1   \n",
       "29997  29998      30000    1          2         2   37      4      3      2   \n",
       "29998  29999      80000    1          3         1   41      1     -1      0   \n",
       "29999  30000      50000    1          2         1   46      0      0      0   \n",
       "\n",
       "       PAY_4  ...  BILL_AMT4  BILL_AMT5  BILL_AMT6  PAY_AMT1  PAY_AMT2  \\\n",
       "29995      0  ...      88004      31237      15980      8500     20000   \n",
       "29996     -1  ...       8979       5190          0      1837      3526   \n",
       "29997     -1  ...      20878      20582      19357         0         0   \n",
       "29998      0  ...      52774      11855      48944     85900      3409   \n",
       "29999      0  ...      36535      32428      15313      2078      1800   \n",
       "\n",
       "       PAY_AMT3  PAY_AMT4  PAY_AMT5  PAY_AMT6  default payment next month  \n",
       "29995      5003      3047      5000      1000                           0  \n",
       "29996      8998       129         0         0                           0  \n",
       "29997     22000      4200      2000      3100                           1  \n",
       "29998      1178      1926     52964      1804                           1  \n",
       "29999      1430      1000      1000      1000                           1  \n",
       "\n",
       "[5 rows x 25 columns]"
      ]
     },
     "execution_count": 4,
     "metadata": {},
     "output_type": "execute_result"
    }
   ],
   "source": [
    "LoanFile.tail()"
   ]
  },
  {
   "cell_type": "code",
   "execution_count": 5,
   "metadata": {},
   "outputs": [
    {
     "data": {
      "text/html": [
       "<div>\n",
       "<style scoped>\n",
       "    .dataframe tbody tr th:only-of-type {\n",
       "        vertical-align: middle;\n",
       "    }\n",
       "\n",
       "    .dataframe tbody tr th {\n",
       "        vertical-align: top;\n",
       "    }\n",
       "\n",
       "    .dataframe thead th {\n",
       "        text-align: right;\n",
       "    }\n",
       "</style>\n",
       "<table border=\"1\" class=\"dataframe\">\n",
       "  <thead>\n",
       "    <tr style=\"text-align: right;\">\n",
       "      <th></th>\n",
       "      <th>ID</th>\n",
       "      <th>LIMIT_BAL</th>\n",
       "      <th>SEX</th>\n",
       "      <th>EDUCATION</th>\n",
       "      <th>MARRIAGE</th>\n",
       "      <th>AGE</th>\n",
       "      <th>PAY_0</th>\n",
       "      <th>PAY_2</th>\n",
       "      <th>PAY_3</th>\n",
       "      <th>PAY_4</th>\n",
       "      <th>...</th>\n",
       "      <th>BILL_AMT4</th>\n",
       "      <th>BILL_AMT5</th>\n",
       "      <th>BILL_AMT6</th>\n",
       "      <th>PAY_AMT1</th>\n",
       "      <th>PAY_AMT2</th>\n",
       "      <th>PAY_AMT3</th>\n",
       "      <th>PAY_AMT4</th>\n",
       "      <th>PAY_AMT5</th>\n",
       "      <th>PAY_AMT6</th>\n",
       "      <th>default payment next month</th>\n",
       "    </tr>\n",
       "  </thead>\n",
       "  <tbody>\n",
       "    <tr>\n",
       "      <th>count</th>\n",
       "      <td>30000.000000</td>\n",
       "      <td>30000.000000</td>\n",
       "      <td>30000.000000</td>\n",
       "      <td>30000.000000</td>\n",
       "      <td>30000.000000</td>\n",
       "      <td>30000.000000</td>\n",
       "      <td>30000.000000</td>\n",
       "      <td>30000.000000</td>\n",
       "      <td>30000.000000</td>\n",
       "      <td>30000.000000</td>\n",
       "      <td>...</td>\n",
       "      <td>30000.000000</td>\n",
       "      <td>30000.000000</td>\n",
       "      <td>30000.000000</td>\n",
       "      <td>30000.000000</td>\n",
       "      <td>3.000000e+04</td>\n",
       "      <td>30000.00000</td>\n",
       "      <td>30000.000000</td>\n",
       "      <td>30000.000000</td>\n",
       "      <td>30000.000000</td>\n",
       "      <td>30000.000000</td>\n",
       "    </tr>\n",
       "    <tr>\n",
       "      <th>mean</th>\n",
       "      <td>15000.500000</td>\n",
       "      <td>167484.322667</td>\n",
       "      <td>1.603733</td>\n",
       "      <td>1.853133</td>\n",
       "      <td>1.551867</td>\n",
       "      <td>35.485500</td>\n",
       "      <td>-0.016700</td>\n",
       "      <td>-0.133767</td>\n",
       "      <td>-0.166200</td>\n",
       "      <td>-0.220667</td>\n",
       "      <td>...</td>\n",
       "      <td>43262.948967</td>\n",
       "      <td>40311.400967</td>\n",
       "      <td>38871.760400</td>\n",
       "      <td>5663.580500</td>\n",
       "      <td>5.921163e+03</td>\n",
       "      <td>5225.68150</td>\n",
       "      <td>4826.076867</td>\n",
       "      <td>4799.387633</td>\n",
       "      <td>5215.502567</td>\n",
       "      <td>0.221200</td>\n",
       "    </tr>\n",
       "    <tr>\n",
       "      <th>std</th>\n",
       "      <td>8660.398374</td>\n",
       "      <td>129747.661567</td>\n",
       "      <td>0.489129</td>\n",
       "      <td>0.790349</td>\n",
       "      <td>0.521970</td>\n",
       "      <td>9.217904</td>\n",
       "      <td>1.123802</td>\n",
       "      <td>1.197186</td>\n",
       "      <td>1.196868</td>\n",
       "      <td>1.169139</td>\n",
       "      <td>...</td>\n",
       "      <td>64332.856134</td>\n",
       "      <td>60797.155770</td>\n",
       "      <td>59554.107537</td>\n",
       "      <td>16563.280354</td>\n",
       "      <td>2.304087e+04</td>\n",
       "      <td>17606.96147</td>\n",
       "      <td>15666.159744</td>\n",
       "      <td>15278.305679</td>\n",
       "      <td>17777.465775</td>\n",
       "      <td>0.415062</td>\n",
       "    </tr>\n",
       "    <tr>\n",
       "      <th>min</th>\n",
       "      <td>1.000000</td>\n",
       "      <td>10000.000000</td>\n",
       "      <td>1.000000</td>\n",
       "      <td>0.000000</td>\n",
       "      <td>0.000000</td>\n",
       "      <td>21.000000</td>\n",
       "      <td>-2.000000</td>\n",
       "      <td>-2.000000</td>\n",
       "      <td>-2.000000</td>\n",
       "      <td>-2.000000</td>\n",
       "      <td>...</td>\n",
       "      <td>-170000.000000</td>\n",
       "      <td>-81334.000000</td>\n",
       "      <td>-339603.000000</td>\n",
       "      <td>0.000000</td>\n",
       "      <td>0.000000e+00</td>\n",
       "      <td>0.00000</td>\n",
       "      <td>0.000000</td>\n",
       "      <td>0.000000</td>\n",
       "      <td>0.000000</td>\n",
       "      <td>0.000000</td>\n",
       "    </tr>\n",
       "    <tr>\n",
       "      <th>25%</th>\n",
       "      <td>7500.750000</td>\n",
       "      <td>50000.000000</td>\n",
       "      <td>1.000000</td>\n",
       "      <td>1.000000</td>\n",
       "      <td>1.000000</td>\n",
       "      <td>28.000000</td>\n",
       "      <td>-1.000000</td>\n",
       "      <td>-1.000000</td>\n",
       "      <td>-1.000000</td>\n",
       "      <td>-1.000000</td>\n",
       "      <td>...</td>\n",
       "      <td>2326.750000</td>\n",
       "      <td>1763.000000</td>\n",
       "      <td>1256.000000</td>\n",
       "      <td>1000.000000</td>\n",
       "      <td>8.330000e+02</td>\n",
       "      <td>390.00000</td>\n",
       "      <td>296.000000</td>\n",
       "      <td>252.500000</td>\n",
       "      <td>117.750000</td>\n",
       "      <td>0.000000</td>\n",
       "    </tr>\n",
       "    <tr>\n",
       "      <th>50%</th>\n",
       "      <td>15000.500000</td>\n",
       "      <td>140000.000000</td>\n",
       "      <td>2.000000</td>\n",
       "      <td>2.000000</td>\n",
       "      <td>2.000000</td>\n",
       "      <td>34.000000</td>\n",
       "      <td>0.000000</td>\n",
       "      <td>0.000000</td>\n",
       "      <td>0.000000</td>\n",
       "      <td>0.000000</td>\n",
       "      <td>...</td>\n",
       "      <td>19052.000000</td>\n",
       "      <td>18104.500000</td>\n",
       "      <td>17071.000000</td>\n",
       "      <td>2100.000000</td>\n",
       "      <td>2.009000e+03</td>\n",
       "      <td>1800.00000</td>\n",
       "      <td>1500.000000</td>\n",
       "      <td>1500.000000</td>\n",
       "      <td>1500.000000</td>\n",
       "      <td>0.000000</td>\n",
       "    </tr>\n",
       "    <tr>\n",
       "      <th>75%</th>\n",
       "      <td>22500.250000</td>\n",
       "      <td>240000.000000</td>\n",
       "      <td>2.000000</td>\n",
       "      <td>2.000000</td>\n",
       "      <td>2.000000</td>\n",
       "      <td>41.000000</td>\n",
       "      <td>0.000000</td>\n",
       "      <td>0.000000</td>\n",
       "      <td>0.000000</td>\n",
       "      <td>0.000000</td>\n",
       "      <td>...</td>\n",
       "      <td>54506.000000</td>\n",
       "      <td>50190.500000</td>\n",
       "      <td>49198.250000</td>\n",
       "      <td>5006.000000</td>\n",
       "      <td>5.000000e+03</td>\n",
       "      <td>4505.00000</td>\n",
       "      <td>4013.250000</td>\n",
       "      <td>4031.500000</td>\n",
       "      <td>4000.000000</td>\n",
       "      <td>0.000000</td>\n",
       "    </tr>\n",
       "    <tr>\n",
       "      <th>max</th>\n",
       "      <td>30000.000000</td>\n",
       "      <td>1000000.000000</td>\n",
       "      <td>2.000000</td>\n",
       "      <td>6.000000</td>\n",
       "      <td>3.000000</td>\n",
       "      <td>79.000000</td>\n",
       "      <td>8.000000</td>\n",
       "      <td>8.000000</td>\n",
       "      <td>8.000000</td>\n",
       "      <td>8.000000</td>\n",
       "      <td>...</td>\n",
       "      <td>891586.000000</td>\n",
       "      <td>927171.000000</td>\n",
       "      <td>961664.000000</td>\n",
       "      <td>873552.000000</td>\n",
       "      <td>1.684259e+06</td>\n",
       "      <td>896040.00000</td>\n",
       "      <td>621000.000000</td>\n",
       "      <td>426529.000000</td>\n",
       "      <td>528666.000000</td>\n",
       "      <td>1.000000</td>\n",
       "    </tr>\n",
       "  </tbody>\n",
       "</table>\n",
       "<p>8 rows × 25 columns</p>\n",
       "</div>"
      ],
      "text/plain": [
       "                 ID       LIMIT_BAL           SEX     EDUCATION      MARRIAGE  \\\n",
       "count  30000.000000    30000.000000  30000.000000  30000.000000  30000.000000   \n",
       "mean   15000.500000   167484.322667      1.603733      1.853133      1.551867   \n",
       "std     8660.398374   129747.661567      0.489129      0.790349      0.521970   \n",
       "min        1.000000    10000.000000      1.000000      0.000000      0.000000   \n",
       "25%     7500.750000    50000.000000      1.000000      1.000000      1.000000   \n",
       "50%    15000.500000   140000.000000      2.000000      2.000000      2.000000   \n",
       "75%    22500.250000   240000.000000      2.000000      2.000000      2.000000   \n",
       "max    30000.000000  1000000.000000      2.000000      6.000000      3.000000   \n",
       "\n",
       "                AGE         PAY_0         PAY_2         PAY_3         PAY_4  \\\n",
       "count  30000.000000  30000.000000  30000.000000  30000.000000  30000.000000   \n",
       "mean      35.485500     -0.016700     -0.133767     -0.166200     -0.220667   \n",
       "std        9.217904      1.123802      1.197186      1.196868      1.169139   \n",
       "min       21.000000     -2.000000     -2.000000     -2.000000     -2.000000   \n",
       "25%       28.000000     -1.000000     -1.000000     -1.000000     -1.000000   \n",
       "50%       34.000000      0.000000      0.000000      0.000000      0.000000   \n",
       "75%       41.000000      0.000000      0.000000      0.000000      0.000000   \n",
       "max       79.000000      8.000000      8.000000      8.000000      8.000000   \n",
       "\n",
       "       ...      BILL_AMT4      BILL_AMT5      BILL_AMT6       PAY_AMT1  \\\n",
       "count  ...   30000.000000   30000.000000   30000.000000   30000.000000   \n",
       "mean   ...   43262.948967   40311.400967   38871.760400    5663.580500   \n",
       "std    ...   64332.856134   60797.155770   59554.107537   16563.280354   \n",
       "min    ... -170000.000000  -81334.000000 -339603.000000       0.000000   \n",
       "25%    ...    2326.750000    1763.000000    1256.000000    1000.000000   \n",
       "50%    ...   19052.000000   18104.500000   17071.000000    2100.000000   \n",
       "75%    ...   54506.000000   50190.500000   49198.250000    5006.000000   \n",
       "max    ...  891586.000000  927171.000000  961664.000000  873552.000000   \n",
       "\n",
       "           PAY_AMT2      PAY_AMT3       PAY_AMT4       PAY_AMT5  \\\n",
       "count  3.000000e+04   30000.00000   30000.000000   30000.000000   \n",
       "mean   5.921163e+03    5225.68150    4826.076867    4799.387633   \n",
       "std    2.304087e+04   17606.96147   15666.159744   15278.305679   \n",
       "min    0.000000e+00       0.00000       0.000000       0.000000   \n",
       "25%    8.330000e+02     390.00000     296.000000     252.500000   \n",
       "50%    2.009000e+03    1800.00000    1500.000000    1500.000000   \n",
       "75%    5.000000e+03    4505.00000    4013.250000    4031.500000   \n",
       "max    1.684259e+06  896040.00000  621000.000000  426529.000000   \n",
       "\n",
       "            PAY_AMT6  default payment next month  \n",
       "count   30000.000000                30000.000000  \n",
       "mean     5215.502567                    0.221200  \n",
       "std     17777.465775                    0.415062  \n",
       "min         0.000000                    0.000000  \n",
       "25%       117.750000                    0.000000  \n",
       "50%      1500.000000                    0.000000  \n",
       "75%      4000.000000                    0.000000  \n",
       "max    528666.000000                    1.000000  \n",
       "\n",
       "[8 rows x 25 columns]"
      ]
     },
     "execution_count": 5,
     "metadata": {},
     "output_type": "execute_result"
    }
   ],
   "source": [
    "LoanFile.describe()\n",
    "\n"
   ]
  },
  {
   "cell_type": "markdown",
   "metadata": {},
   "source": [
    "# Data Pre-processing"
   ]
  },
  {
   "cell_type": "code",
   "execution_count": 6,
   "metadata": {},
   "outputs": [
    {
     "name": "stdout",
     "output_type": "stream",
     "text": [
      "Index(['ID', 'LIMIT_BAL', 'SEX', 'EDUCATION', 'MARRIAGE', 'AGE', 'PAY_0',\n",
      "       'PAY_2', 'PAY_3', 'PAY_4', 'PAY_5', 'PAY_6', 'BILL_AMT1', 'BILL_AMT2',\n",
      "       'BILL_AMT3', 'BILL_AMT4', 'BILL_AMT5', 'BILL_AMT6', 'PAY_AMT1',\n",
      "       'PAY_AMT2', 'PAY_AMT3', 'PAY_AMT4', 'PAY_AMT5', 'PAY_AMT6',\n",
      "       'default_payment'],\n",
      "      dtype='object')\n"
     ]
    }
   ],
   "source": [
    "#rename dependent variable\n",
    "LoanFile.rename(columns={'default payment next month':'default_payment'}, \n",
    "                 inplace=True)\n",
    " \n",
    "print(LoanFile.columns)"
   ]
  },
  {
   "cell_type": "code",
   "execution_count": 7,
   "metadata": {},
   "outputs": [
    {
     "name": "stdout",
     "output_type": "stream",
     "text": [
      "<class 'pandas.core.frame.DataFrame'>\n",
      "RangeIndex: 30000 entries, 0 to 29999\n",
      "Data columns (total 25 columns):\n",
      "ID                 30000 non-null int64\n",
      "LIMIT_BAL          30000 non-null int64\n",
      "SEX                30000 non-null int64\n",
      "EDUCATION          30000 non-null int64\n",
      "MARRIAGE           30000 non-null int64\n",
      "AGE                30000 non-null int64\n",
      "PAY_0              30000 non-null int64\n",
      "PAY_2              30000 non-null int64\n",
      "PAY_3              30000 non-null int64\n",
      "PAY_4              30000 non-null int64\n",
      "PAY_5              30000 non-null int64\n",
      "PAY_6              30000 non-null int64\n",
      "BILL_AMT1          30000 non-null int64\n",
      "BILL_AMT2          30000 non-null int64\n",
      "BILL_AMT3          30000 non-null int64\n",
      "BILL_AMT4          30000 non-null int64\n",
      "BILL_AMT5          30000 non-null int64\n",
      "BILL_AMT6          30000 non-null int64\n",
      "PAY_AMT1           30000 non-null int64\n",
      "PAY_AMT2           30000 non-null int64\n",
      "PAY_AMT3           30000 non-null int64\n",
      "PAY_AMT4           30000 non-null int64\n",
      "PAY_AMT5           30000 non-null int64\n",
      "PAY_AMT6           30000 non-null int64\n",
      "default_payment    30000 non-null int64\n",
      "dtypes: int64(25)\n",
      "memory usage: 5.7 MB\n"
     ]
    }
   ],
   "source": [
    "# check for data type\n",
    "LoanFile.info()"
   ]
  },
  {
   "cell_type": "code",
   "execution_count": 8,
   "metadata": {},
   "outputs": [],
   "source": [
    "#Import Packages\n",
    "import copy\n",
    "import matplotlib.pyplot as plt\n",
    "import matplotlib as mpl\n",
    "import seaborn as sns\n",
    "import numpy as np\n",
    "%matplotlib inline"
   ]
  },
  {
   "cell_type": "code",
   "execution_count": 9,
   "metadata": {},
   "outputs": [
    {
     "data": {
      "text/plain": [
       "<matplotlib.legend.Legend at 0x22c61f99710>"
      ]
     },
     "execution_count": 9,
     "metadata": {},
     "output_type": "execute_result"
    },
    {
     "data": {
      "image/png": "[encoded data removed]",
      "text/plain": [
       "<Figure size 432x288 with 1 Axes>"
      ]
     },
     "metadata": {
      "needs_background": "light"
     },
     "output_type": "display_data"
    }
   ],
   "source": [
    "# plot histogram of the dependent variable default_payment_next_month\n",
    "plt.hist(LoanFile.default_payment, color='b', bins=3,\n",
    "        label=['Not default', 'Default'])\n",
    "plt.xlabel('Loan Default Payment')\n",
    "plt.ylabel('Frequency')\n",
    "plt.title('Frequency Distribution of Default Payment')\n",
    "plt.legend()"
   ]
  },
  {
   "cell_type": "markdown",
   "metadata": {},
   "source": [
    "A quick glance of the data shows 30000 rows or instances and 25 columns or features. The data types are all integers. default_payment is the dependent variable."
   ]
  },
  {
   "cell_type": "markdown",
   "metadata": {},
   "source": [
    "The comparative analysis from the histogram plot above shows higher loan default payment rate from the data set. This confirms our client's concern. \n"
   ]
  },
  {
   "cell_type": "code",
   "execution_count": 10,
   "metadata": {},
   "outputs": [
    {
     "data": {
      "text/plain": [
       "ID                 0\n",
       "LIMIT_BAL          0\n",
       "SEX                0\n",
       "EDUCATION          0\n",
       "MARRIAGE           0\n",
       "AGE                0\n",
       "PAY_0              0\n",
       "PAY_2              0\n",
       "PAY_3              0\n",
       "PAY_4              0\n",
       "PAY_5              0\n",
       "PAY_6              0\n",
       "BILL_AMT1          0\n",
       "BILL_AMT2          0\n",
       "BILL_AMT3          0\n",
       "BILL_AMT4          0\n",
       "BILL_AMT5          0\n",
       "BILL_AMT6          0\n",
       "PAY_AMT1           0\n",
       "PAY_AMT2           0\n",
       "PAY_AMT3           0\n",
       "PAY_AMT4           0\n",
       "PAY_AMT5           0\n",
       "PAY_AMT6           0\n",
       "default_payment    0\n",
       "dtype: int64"
      ]
     },
     "execution_count": 10,
     "metadata": {},
     "output_type": "execute_result"
    }
   ],
   "source": [
    "# check for missing data in the data set\n",
    "LoanFile.isnull().sum()"
   ]
  },
  {
   "cell_type": "code",
   "execution_count": 11,
   "metadata": {},
   "outputs": [
    {
     "name": "stdout",
     "output_type": "stream",
     "text": [
      "       LIMIT_BAL  EDUCATION  AGE  PAY_0  PAY_2  PAY_3  PAY_4  PAY_5  PAY_6  \\\n",
      "0          20000          2   24      2      2     -1     -1     -2     -2   \n",
      "1         120000          2   26     -1      2      0      0      0      2   \n",
      "2          90000          2   34      0      0      0      0      0      0   \n",
      "3          50000          2   37      0      0      0      0      0      0   \n",
      "4          50000          2   57     -1      0     -1      0      0      0   \n",
      "5          50000          1   37      0      0      0      0      0      0   \n",
      "6         500000          1   29      0      0      0      0      0      0   \n",
      "7         100000          2   23      0     -1     -1      0      0     -1   \n",
      "8         140000          3   28      0      0      2      0      0      0   \n",
      "9          20000          3   35     -2     -2     -2     -2     -1     -1   \n",
      "10        200000          3   34      0      0      2      0      0     -1   \n",
      "11        260000          1   51     -1     -1     -1     -1     -1      2   \n",
      "12        630000          2   41     -1      0     -1     -1     -1     -1   \n",
      "13         70000          2   30      1      2      2      0      0      2   \n",
      "14        250000          1   29      0      0      0      0      0      0   \n",
      "15         50000          3   23      1      2      0      0      0      0   \n",
      "16         20000          1   24      0      0      2      2      2      2   \n",
      "17        320000          1   49      0      0      0     -1     -1     -1   \n",
      "18        360000          1   49      1     -2     -2     -2     -2     -2   \n",
      "19        180000          1   29      1     -2     -2     -2     -2     -2   \n",
      "20        130000          3   39      0      0      0      0      0     -1   \n",
      "21        120000          2   39     -1     -1     -1     -1     -1     -1   \n",
      "22         70000          2   26      2      0      0      2      2      2   \n",
      "23        450000          1   40     -2     -2     -2     -2     -2     -2   \n",
      "24         90000          1   23      0      0      0     -1      0      0   \n",
      "25         50000          3   23      0      0      0      0      0      0   \n",
      "26         60000          1   27      1     -2     -1     -1     -1     -1   \n",
      "27         50000          3   30      0      0      0      0      0      0   \n",
      "28         50000          3   47     -1     -1     -1     -1     -1     -1   \n",
      "29         50000          1   26      0      0      0      0      0      0   \n",
      "...          ...        ...  ...    ...    ...    ...    ...    ...    ...   \n",
      "29970     360000          1   34     -1     -1     -1      0      0     -1   \n",
      "29971      80000          3   36      0      0      0      0      0      0   \n",
      "29972     190000          1   37      0      0      0      0      0     -1   \n",
      "29973     230000          2   35      1     -2     -2     -2     -2     -2   \n",
      "29974      50000          2   37      1      2      2      2      0      0   \n",
      "29975     220000          2   41      0      0     -1     -1     -2     -2   \n",
      "29976      40000          2   47      2      2      3      2      2      2   \n",
      "29977     420000          1   34      0      0      0      0      0      0   \n",
      "29978     310000          2   39      0      0      0      0      0      0   \n",
      "29979     180000          1   32     -2     -2     -2     -2     -2     -2   \n",
      "29980      50000          3   42      0      0      0      0      0      0   \n",
      "29981      50000          2   44      1      2      2      2      0      0   \n",
      "29982      90000          2   36      0      0      0      0      0      0   \n",
      "29983      20000          2   44     -2     -2     -2     -2     -2     -2   \n",
      "29984      30000          2   38     -1     -1     -2     -1     -1     -1   \n",
      "29985     240000          1   30     -2     -2     -2     -2     -2     -2   \n",
      "29986     360000          1   35     -1     -1     -2     -2     -2     -2   \n",
      "29987     130000          1   34      0      0      0      0      0      0   \n",
      "29988     250000          1   34      0      0      0      0      0      0   \n",
      "29989     150000          1   35     -1     -1     -1     -1     -1     -2   \n",
      "29990     140000          2   41      0      0      0      0      0      0   \n",
      "29991     210000          2   34      3      2      2      2      2      2   \n",
      "29992      10000          3   43      0      0      0     -2     -2     -2   \n",
      "29993     100000          1   38      0     -1     -1      0      0      0   \n",
      "29994      80000          2   34      2      2      2      2      2      2   \n",
      "29995     220000          3   39      0      0      0      0      0      0   \n",
      "29996     150000          3   43     -1     -1     -1     -1      0      0   \n",
      "29997      30000          2   37      4      3      2     -1      0      0   \n",
      "29998      80000          3   41      1     -1      0      0      0     -1   \n",
      "29999      50000          2   46      0      0      0      0      0      0   \n",
      "\n",
      "       BILL_AMT1  ...  BILL_AMT4  BILL_AMT5  BILL_AMT6  PAY_AMT1  PAY_AMT2  \\\n",
      "0           3913  ...          0          0          0         0       689   \n",
      "1           2682  ...       3272       3455       3261         0      1000   \n",
      "2          29239  ...      14331      14948      15549      1518      1500   \n",
      "3          46990  ...      28314      28959      29547      2000      2019   \n",
      "4           8617  ...      20940      19146      19131      2000     36681   \n",
      "5          64400  ...      19394      19619      20024      2500      1815   \n",
      "6         367965  ...     542653     483003     473944     55000     40000   \n",
      "7          11876  ...        221       -159        567       380       601   \n",
      "8          11285  ...      12211      11793       3719      3329         0   \n",
      "9              0  ...          0      13007      13912         0         0   \n",
      "10         11073  ...       2513       1828       3731      2306        12   \n",
      "11         12261  ...       8517      22287      13668     21818      9966   \n",
      "12         12137  ...       6500       6500       2870      1000      6500   \n",
      "13         65802  ...      66782      36137      36894      3200         0   \n",
      "14         70887  ...      59696      56875      55512      3000      3000   \n",
      "15         50614  ...      28771      29531      30211         0      1500   \n",
      "16         15376  ...      18338      17905      19104      3200         0   \n",
      "17        253286  ...      70074       5856     195599     10358     10000   \n",
      "18             0  ...          0          0          0         0         0   \n",
      "19             0  ...          0          0          0         0         0   \n",
      "20         38358  ...      20616      11802        930      3000      1537   \n",
      "21           316  ...          0        632        316       316       316   \n",
      "22         41087  ...      44006      46905      46012      2007      3582   \n",
      "23          5512  ...        560          0          0     19428      1473   \n",
      "24          4744  ...       5398       6360       8292      5757         0   \n",
      "25         47620  ...      28967      29829      30046      1973      1426   \n",
      "26          -109  ...        -57        127       -189         0      1000   \n",
      "27         22541  ...      17878      18931      19617      1300      1300   \n",
      "28           650  ...       2040      30430        257      3415      3421   \n",
      "29         15329  ...      17907      18375      11400      1500      1500   \n",
      "...          ...  ...        ...        ...        ...       ...       ...   \n",
      "29970      33654  ...      49005       8676      19487     52951     64535   \n",
      "29971      65554  ...      69674      71070      73612      2395      2500   \n",
      "29972      21628  ...      29223      19616     148482      2000      3869   \n",
      "29973          0  ...          0          0          0         0         0   \n",
      "29974      10904  ...       2846       1585       1324         0      3000   \n",
      "29975      45075  ...       5924       1759       1824      8840      6643   \n",
      "29976      52358  ...      51259      47151      46934      4000         0   \n",
      "29977     131939  ...     141695     144839     147954      7000      7000   \n",
      "29978     238973  ...     219409     216540     210675     10029      9218   \n",
      "29979          0  ...          0          0          0         0         0   \n",
      "29980      43998  ...      50360      19971      19694     10000      4000   \n",
      "29981      38671  ...      28192      22676      14647      2300      1700   \n",
      "29982       7752  ...      11328      12036      14329      1500      1500   \n",
      "29983       1822  ...       2882       9235       1719      2890      2720   \n",
      "29984        315  ...       1993       1907       3319       923      2977   \n",
      "29985          0  ...          0          0          0         0         0   \n",
      "29986       2220  ...          0          0          0         0         0   \n",
      "29987      23292  ...     108047      93708      97353      3000      2000   \n",
      "29988     279640  ...     245750     175005     179687     65000      8800   \n",
      "29989       3425  ...        780          0          0      9054         0   \n",
      "29990     138325  ...     138262      49675      46121      6000      7000   \n",
      "29991       2500  ...       2500       2500       2500         0         0   \n",
      "29992       8802  ...          0          0          0      2000         0   \n",
      "29993       3042  ...      70626      69473      55004      2000    111784   \n",
      "29994      72557  ...      77519      82607      81158      7000      3500   \n",
      "29995     188948  ...      88004      31237      15980      8500     20000   \n",
      "29996       1683  ...       8979       5190          0      1837      3526   \n",
      "29997       3565  ...      20878      20582      19357         0         0   \n",
      "29998      -1645  ...      52774      11855      48944     85900      3409   \n",
      "29999      47929  ...      36535      32428      15313      2078      1800   \n",
      "\n",
      "       PAY_AMT3  PAY_AMT4  PAY_AMT5  PAY_AMT6  default_payment  \n",
      "0             0         0         0         0                1  \n",
      "1          1000      1000         0      2000                1  \n",
      "2          1000      1000      1000      5000                0  \n",
      "3          1200      1100      1069      1000                0  \n",
      "4         10000      9000       689       679                0  \n",
      "5           657      1000      1000       800                0  \n",
      "6         38000     20239     13750     13770                0  \n",
      "7             0       581      1687      1542                0  \n",
      "8           432      1000      1000      1000                0  \n",
      "9             0     13007      1122         0                0  \n",
      "10           50       300      3738        66                0  \n",
      "11         8583     22301         0      3640                0  \n",
      "12         6500      6500      2870         0                0  \n",
      "13         3000      3000      1500         0                1  \n",
      "14         3000      3000      3000      3000                0  \n",
      "15         1100      1200      1300      1100                0  \n",
      "16         1500         0      1650         0                1  \n",
      "17        75940     20000    195599     50000                0  \n",
      "18            0         0         0         0                0  \n",
      "19            0         0         0         0                0  \n",
      "20         1000      2000       930     33764                0  \n",
      "21            0       632       316         0                1  \n",
      "22            0      3601         0      1820                1  \n",
      "23          560         0         0      1128                1  \n",
      "24         5398      1200      2045      2000                0  \n",
      "25         1001      1432      1062       997                0  \n",
      "26            0       500         0      1000                1  \n",
      "27         1000      1500      1000      1012                0  \n",
      "28         2044     30430       257         0                0  \n",
      "29         1000      1000      1600         0                0  \n",
      "...         ...       ...       ...       ...              ...  \n",
      "29970      8907        53     19584     16080                0  \n",
      "29971      2530      2556      3700      3000                0  \n",
      "29972     25128     10115    148482      4800                0  \n",
      "29973         0         0         0         0                1  \n",
      "29974         0         0      1000      1000                1  \n",
      "29975      5924      1759      1824      7022                0  \n",
      "29976      2000         0      3520         0                1  \n",
      "29977      5500      5500      5600      5000                0  \n",
      "29978     10029      8049      8040     10059                0  \n",
      "29979         0         0         0         0                0  \n",
      "29980      5000      3000      4500      2000                0  \n",
      "29981         0       517       503       585                0  \n",
      "29982      1500      1200      2500         0                1  \n",
      "29983      2890      9263      1824      1701                0  \n",
      "29984      1999      3057      3319      1000                0  \n",
      "29985         0         0         0         0                0  \n",
      "29986         0         0         0         0                0  \n",
      "29987     93000      4000      5027      4005                0  \n",
      "29988      9011      6000      7000      6009                0  \n",
      "29989       783         0         0         0                0  \n",
      "29990      4228      1505      2000      2000                0  \n",
      "29991         0         0         0         0                1  \n",
      "29992         0         0         0         0                0  \n",
      "29993      4000      3000      2000      2000                0  \n",
      "29994         0      7000         0      4000                1  \n",
      "29995      5003      3047      5000      1000                0  \n",
      "29996      8998       129         0         0                0  \n",
      "29997     22000      4200      2000      3100                1  \n",
      "29998      1178      1926     52964      1804                1  \n",
      "29999      1430      1000      1000      1000                1  \n",
      "\n",
      "[30000 rows x 22 columns]\n"
     ]
    }
   ],
   "source": [
    "# remove some attributes\n",
    "LoanFile1 = LoanFile.drop(['ID', 'SEX', 'MARRIAGE'], axis=1)\n",
    "print(LoanFile1)"
   ]
  },
  {
   "cell_type": "markdown",
   "metadata": {},
   "source": [
    "Data Reduction\n",
    "Data Discretization"
   ]
  },
  {
   "cell_type": "code",
   "execution_count": 12,
   "metadata": {},
   "outputs": [],
   "source": [
    "# create a new data set in .csv file to be used for exploratory analysis\n",
    "new_LoanFile = LoanFile1.to_csv(r\"C:\\Users\\ietuk\\Documents\\gitHub_Python\\new_LoanFile.csv\", index = None, header=True)\n"
   ]
  },
  {
   "cell_type": "markdown",
   "metadata": {},
   "source": [
    "# Exploratory Analysis\n",
    "\n",
    "After thoroughly cleaning, the data is ready to begin exploring it to gain further insight about the problem at hand and how we can use data science to solve it or at least gain a further understanding of it.\n",
    "\n",
    "According to (Mayo, 2017), \"Exploratory data analysis (EDA) is an integral aspect of any greater data analysis, data science, or machine learning project. Understanding data before working with it isn't just a pretty good idea, it is a priority if you plan on accomplishing anything of consequence.\"\n",
    "\n",
    "In order to gain insight knowledge about the loan default data, we'd to breakdown the data exploration process into following:\n",
    "\n",
    "1. Insight Visualization and Statistics about aach Variable/Attribute. \n",
    "2. Scatter plots comparing the relationships between any two variables.\n",
    "3. If needed, visualizing the relationship between multiple variables.\n",
    "4. Checking for collinearity or performing dimensionality reduction.\n",
    "\n",
    "### Data Visualization\n",
    "\n",
    "Using Histograms to visualize and understand how the data is univariately distributed in any given variable of the loan data set. \n",
    "\n",
    "Histograms are very useful for understanding how the data is distributed in any given single (univariate) variable. Lets have a look at how we can build histograms in Python.\n",
    "The first item of business is to import the matplotlib library; it contains most of the major visualizations needed for this project."
   ]
  },
  {
   "cell_type": "code",
   "execution_count": 13,
   "metadata": {},
   "outputs": [],
   "source": [
    "# import and use newly created data set new_LoanFile\n",
    "new_LoanFileDF = pd.read_csv(r\"C:\\Users\\ietuk\\Documents\\gitHub_Python\\new_LoanFile.csv\")"
   ]
  },
  {
   "cell_type": "code",
   "execution_count": 14,
   "metadata": {},
   "outputs": [
    {
     "data": {
      "text/html": [
       "<div>\n",
       "<style scoped>\n",
       "    .dataframe tbody tr th:only-of-type {\n",
       "        vertical-align: middle;\n",
       "    }\n",
       "\n",
       "    .dataframe tbody tr th {\n",
       "        vertical-align: top;\n",
       "    }\n",
       "\n",
       "    .dataframe thead th {\n",
       "        text-align: right;\n",
       "    }\n",
       "</style>\n",
       "<table border=\"1\" class=\"dataframe\">\n",
       "  <thead>\n",
       "    <tr style=\"text-align: right;\">\n",
       "      <th></th>\n",
       "      <th>LIMIT_BAL</th>\n",
       "      <th>EDUCATION</th>\n",
       "      <th>AGE</th>\n",
       "      <th>PAY_0</th>\n",
       "      <th>PAY_2</th>\n",
       "      <th>PAY_3</th>\n",
       "      <th>PAY_4</th>\n",
       "      <th>PAY_5</th>\n",
       "      <th>PAY_6</th>\n",
       "      <th>BILL_AMT1</th>\n",
       "      <th>...</th>\n",
       "      <th>BILL_AMT4</th>\n",
       "      <th>BILL_AMT5</th>\n",
       "      <th>BILL_AMT6</th>\n",
       "      <th>PAY_AMT1</th>\n",
       "      <th>PAY_AMT2</th>\n",
       "      <th>PAY_AMT3</th>\n",
       "      <th>PAY_AMT4</th>\n",
       "      <th>PAY_AMT5</th>\n",
       "      <th>PAY_AMT6</th>\n",
       "      <th>default_payment</th>\n",
       "    </tr>\n",
       "  </thead>\n",
       "  <tbody>\n",
       "    <tr>\n",
       "      <th>0</th>\n",
       "      <td>20000</td>\n",
       "      <td>2</td>\n",
       "      <td>24</td>\n",
       "      <td>2</td>\n",
       "      <td>2</td>\n",
       "      <td>-1</td>\n",
       "      <td>-1</td>\n",
       "      <td>-2</td>\n",
       "      <td>-2</td>\n",
       "      <td>3913</td>\n",
       "      <td>...</td>\n",
       "      <td>0</td>\n",
       "      <td>0</td>\n",
       "      <td>0</td>\n",
       "      <td>0</td>\n",
       "      <td>689</td>\n",
       "      <td>0</td>\n",
       "      <td>0</td>\n",
       "      <td>0</td>\n",
       "      <td>0</td>\n",
       "      <td>1</td>\n",
       "    </tr>\n",
       "    <tr>\n",
       "      <th>1</th>\n",
       "      <td>120000</td>\n",
       "      <td>2</td>\n",
       "      <td>26</td>\n",
       "      <td>-1</td>\n",
       "      <td>2</td>\n",
       "      <td>0</td>\n",
       "      <td>0</td>\n",
       "      <td>0</td>\n",
       "      <td>2</td>\n",
       "      <td>2682</td>\n",
       "      <td>...</td>\n",
       "      <td>3272</td>\n",
       "      <td>3455</td>\n",
       "      <td>3261</td>\n",
       "      <td>0</td>\n",
       "      <td>1000</td>\n",
       "      <td>1000</td>\n",
       "      <td>1000</td>\n",
       "      <td>0</td>\n",
       "      <td>2000</td>\n",
       "      <td>1</td>\n",
       "    </tr>\n",
       "    <tr>\n",
       "      <th>2</th>\n",
       "      <td>90000</td>\n",
       "      <td>2</td>\n",
       "      <td>34</td>\n",
       "      <td>0</td>\n",
       "      <td>0</td>\n",
       "      <td>0</td>\n",
       "      <td>0</td>\n",
       "      <td>0</td>\n",
       "      <td>0</td>\n",
       "      <td>29239</td>\n",
       "      <td>...</td>\n",
       "      <td>14331</td>\n",
       "      <td>14948</td>\n",
       "      <td>15549</td>\n",
       "      <td>1518</td>\n",
       "      <td>1500</td>\n",
       "      <td>1000</td>\n",
       "      <td>1000</td>\n",
       "      <td>1000</td>\n",
       "      <td>5000</td>\n",
       "      <td>0</td>\n",
       "    </tr>\n",
       "    <tr>\n",
       "      <th>3</th>\n",
       "      <td>50000</td>\n",
       "      <td>2</td>\n",
       "      <td>37</td>\n",
       "      <td>0</td>\n",
       "      <td>0</td>\n",
       "      <td>0</td>\n",
       "      <td>0</td>\n",
       "      <td>0</td>\n",
       "      <td>0</td>\n",
       "      <td>46990</td>\n",
       "      <td>...</td>\n",
       "      <td>28314</td>\n",
       "      <td>28959</td>\n",
       "      <td>29547</td>\n",
       "      <td>2000</td>\n",
       "      <td>2019</td>\n",
       "      <td>1200</td>\n",
       "      <td>1100</td>\n",
       "      <td>1069</td>\n",
       "      <td>1000</td>\n",
       "      <td>0</td>\n",
       "    </tr>\n",
       "    <tr>\n",
       "      <th>4</th>\n",
       "      <td>50000</td>\n",
       "      <td>2</td>\n",
       "      <td>57</td>\n",
       "      <td>-1</td>\n",
       "      <td>0</td>\n",
       "      <td>-1</td>\n",
       "      <td>0</td>\n",
       "      <td>0</td>\n",
       "      <td>0</td>\n",
       "      <td>8617</td>\n",
       "      <td>...</td>\n",
       "      <td>20940</td>\n",
       "      <td>19146</td>\n",
       "      <td>19131</td>\n",
       "      <td>2000</td>\n",
       "      <td>36681</td>\n",
       "      <td>10000</td>\n",
       "      <td>9000</td>\n",
       "      <td>689</td>\n",
       "      <td>679</td>\n",
       "      <td>0</td>\n",
       "    </tr>\n",
       "  </tbody>\n",
       "</table>\n",
       "<p>5 rows × 22 columns</p>\n",
       "</div>"
      ],
      "text/plain": [
       "   LIMIT_BAL  EDUCATION  AGE  PAY_0  PAY_2  PAY_3  PAY_4  PAY_5  PAY_6  \\\n",
       "0      20000          2   24      2      2     -1     -1     -2     -2   \n",
       "1     120000          2   26     -1      2      0      0      0      2   \n",
       "2      90000          2   34      0      0      0      0      0      0   \n",
       "3      50000          2   37      0      0      0      0      0      0   \n",
       "4      50000          2   57     -1      0     -1      0      0      0   \n",
       "\n",
       "   BILL_AMT1  ...  BILL_AMT4  BILL_AMT5  BILL_AMT6  PAY_AMT1  PAY_AMT2  \\\n",
       "0       3913  ...          0          0          0         0       689   \n",
       "1       2682  ...       3272       3455       3261         0      1000   \n",
       "2      29239  ...      14331      14948      15549      1518      1500   \n",
       "3      46990  ...      28314      28959      29547      2000      2019   \n",
       "4       8617  ...      20940      19146      19131      2000     36681   \n",
       "\n",
       "   PAY_AMT3  PAY_AMT4  PAY_AMT5  PAY_AMT6  default_payment  \n",
       "0         0         0         0         0                1  \n",
       "1      1000      1000         0      2000                1  \n",
       "2      1000      1000      1000      5000                0  \n",
       "3      1200      1100      1069      1000                0  \n",
       "4     10000      9000       689       679                0  \n",
       "\n",
       "[5 rows x 22 columns]"
      ]
     },
     "execution_count": 14,
     "metadata": {},
     "output_type": "execute_result"
    }
   ],
   "source": [
    "new_LoanFileDF.head()\n"
   ]
  },
  {
   "cell_type": "code",
   "execution_count": 15,
   "metadata": {},
   "outputs": [
    {
     "name": "stdout",
     "output_type": "stream",
     "text": [
      "Index(['LIMIT_BAL', 'EDUCATION', 'AGE', 'PAY_0', 'PAY_2', 'PAY_3', 'PAY_4',\n",
      "       'PAY_5', 'PAY_6', 'BILL_AMT1', 'BILL_AMT2', 'BILL_AMT3', 'BILL_AMT4',\n",
      "       'BILL_AMT5', 'BILL_AMT6', 'PAY_AMT1', 'PAY_AMT2', 'PAY_AMT3',\n",
      "       'PAY_AMT4', 'PAY_AMT5', 'PAY_AMT6', 'default_payment'],\n",
      "      dtype='object')\n"
     ]
    }
   ],
   "source": [
    "# Next, lets verify column names in our dataframe before plotting\n",
    "header = new_LoanFileDF.dtypes.index\n",
    "print(header)"
   ]
  },
  {
   "cell_type": "code",
   "execution_count": 16,
   "metadata": {},
   "outputs": [
    {
     "data": {
      "image/png": "[encoded data removed]",
      "text/plain": [
       "<Figure size 432x288 with 1 Axes>"
      ]
     },
     "metadata": {
      "needs_background": "light"
     },
     "output_type": "display_data"
    }
   ],
   "source": [
    "# Build histogram using .hist method of matplotlib to plots the 'LIMIT_BAL' variable\n",
    "plt.hist(new_LoanFileDF['LIMIT_BAL'], bins=6)\n",
    "plt.show()"
   ]
  },
  {
   "cell_type": "markdown",
   "metadata": {},
   "source": [
    "We'll continue with univariate analysis by plotting multiple features\n",
    "\n",
    "### LIne Plot\n",
    "Line plots are often used in EDA to illustrate the range and mode of any given numerical variable. This can be very important for things like preventing bias and model overfit and even identifying collinearity."
   ]
  },
  {
   "cell_type": "code",
   "execution_count": 17,
   "metadata": {},
   "outputs": [
    {
     "data": {
      "image/png": "[encoded data removed]",
      "text/plain": [
       "<Figure size 432x288 with 1 Axes>"
      ]
     },
     "metadata": {
      "needs_background": "light"
     },
     "output_type": "display_data"
    }
   ],
   "source": [
    "# Creating line plot of LIMIT_BAL\n",
    "plt.plot(new_LoanFileDF['LIMIT_BAL'])\n",
    "plt.xlabel(\"X\")\n",
    "plt.ylabel(\"Y\")\n",
    "plt.title(\"LIMIT_BAL Frequency\")\n",
    "plt.show()"
   ]
  },
  {
   "cell_type": "markdown",
   "metadata": {},
   "source": [
    "### Scatter Plot Visualization\n",
    "Scatter plots are useful for comparing two features (bivariate and multiple features (multivariate) to each other.\n",
    "We will use this to understanding any possible relationships between the variables in the data set, but not confusing with causation."
   ]
  },
  {
   "cell_type": "code",
   "execution_count": 18,
   "metadata": {},
   "outputs": [],
   "source": [
    "# In order to create a comparison of 'PAY_0' to 'PAY_2', we must first set the two features equal to variables as follows:\n",
    "x = new_LoanFileDF['PAY_0']\n",
    "y = new_LoanFileDF['PAY_2']"
   ]
  },
  {
   "cell_type": "code",
   "execution_count": 19,
   "metadata": {},
   "outputs": [
    {
     "data": {
      "image/png": "[encoded data removed]",
      "text/plain": [
       "<Figure size 432x288 with 1 Axes>"
      ]
     },
     "metadata": {
      "needs_background": "light"
     },
     "output_type": "display_data"
    }
   ],
   "source": [
    "plt.scatter(x,y)\n",
    "plt.xlabel('PAY_0')\n",
    "plt.ylabel('PAY_2')\n",
    "plt.title('Comparison of PAY_0 and PAY_2')\n",
    "plt.show()"
   ]
  },
  {
   "cell_type": "markdown",
   "metadata": {},
   "source": [
    "## Visualization with Box Plots\n",
    "\n",
    "The Box or Whisker Plot below is for quickly visualizing where the bulk of the data is in variables. Looking features may help to uncover outliers or variances in the observations. Unerstanding what features might contain outliers is very important in Data Science and very important for Machine Learning. Lets look at the different components that make up a good box plot.\n",
    "The lines that extend from either side of the 'box' in the middle of the plot can demonstrate the existence of outlying data points in the feature if point go beyond the ends of the lines (whiskers), but this doesn't necessarily mean there is an issue. \n"
   ]
  },
  {
   "cell_type": "code",
   "execution_count": 20,
   "metadata": {},
   "outputs": [
    {
     "name": "stdout",
     "output_type": "stream",
     "text": [
      "Index(['LIMIT_BAL', 'EDUCATION', 'AGE', 'PAY_0', 'PAY_2', 'PAY_3', 'PAY_4',\n",
      "       'PAY_5', 'PAY_6', 'BILL_AMT1', 'BILL_AMT2', 'BILL_AMT3', 'BILL_AMT4',\n",
      "       'BILL_AMT5', 'BILL_AMT6', 'PAY_AMT1', 'PAY_AMT2', 'PAY_AMT3',\n",
      "       'PAY_AMT4', 'PAY_AMT5', 'PAY_AMT6', 'default_payment'],\n",
      "      dtype='object')\n"
     ]
    }
   ],
   "source": [
    "header = new_LoanFileDF.dtypes.index\n",
    "print(header)"
   ]
  },
  {
   "cell_type": "code",
   "execution_count": 21,
   "metadata": {},
   "outputs": [
    {
     "data": {
      "image/png": "[encoded data removed]",
      "text/plain": [
       "<Figure size 432x288 with 1 Axes>"
      ]
     },
     "metadata": {
      "needs_background": "light"
     },
     "output_type": "display_data"
    },
    {
     "data": {
      "image/png": "[encoded data removed]",
      "text/plain": [
       "<Figure size 432x288 with 1 Axes>"
      ]
     },
     "metadata": {
      "needs_background": "light"
     },
     "output_type": "display_data"
    },
    {
     "data": {
      "image/png": "[encoded data removed]",
      "text/plain": [
       "<Figure size 432x288 with 1 Axes>"
      ]
     },
     "metadata": {
      "needs_background": "light"
     },
     "output_type": "display_data"
    },
    {
     "data": {
      "image/png": "[encoded data removed]",
      "text/plain": [
       "<Figure size 432x288 with 1 Axes>"
      ]
     },
     "metadata": {
      "needs_background": "light"
     },
     "output_type": "display_data"
    },
    {
     "data": {
      "image/png": "[encoded data removed]",
      "text/plain": [
       "<Figure size 432x288 with 1 Axes>"
      ]
     },
     "metadata": {
      "needs_background": "light"
     },
     "output_type": "display_data"
    },
    {
     "data": {
      "image/png": "[encoded data removed]",
      "text/plain": [
       "<Figure size 432x288 with 1 Axes>"
      ]
     },
     "metadata": {
      "needs_background": "light"
     },
     "output_type": "display_data"
    }
   ],
   "source": [
    "b1 = new_LoanFileDF['BILL_AMT1']\n",
    "plt.boxplot(b1,0,'gD')\n",
    "plt.title('Box Plot of BILL_AMT1')\n",
    "plt.show()\n",
    "\n",
    "b2 = new_LoanFileDF['BILL_AMT2']\n",
    "plt.boxplot(b2,1,'gD')\n",
    "plt.title('Box Plot of BILL_AMT2')\n",
    "plt.show()\n",
    "\n",
    "b3 = new_LoanFileDF['BILL_AMT3']\n",
    "plt.boxplot(b3,2,'gD')\n",
    "plt.title('Box Plot of BILL_AMT3')\n",
    "plt.show()\n",
    "\n",
    "b4 = new_LoanFileDF['BILL_AMT4']\n",
    "plt.boxplot(b4,3,'gD')\n",
    "plt.title('Box Plot of BILL_AMT4')\n",
    "plt.show()\n",
    "\n",
    "b5 = new_LoanFileDF['BILL_AMT5']\n",
    "plt.boxplot(b5,4,'gD')\n",
    "plt.title('Box Plot of BILL_AMT5')\n",
    "plt.show()\n",
    "\n",
    "b6 = new_LoanFileDF['BILL_AMT6']\n",
    "plt.boxplot(b6,5,'gD')\n",
    "plt.title('Box Plot of BILL_AMT6')\n",
    "plt.show()"
   ]
  },
  {
   "cell_type": "code",
   "execution_count": 22,
   "metadata": {},
   "outputs": [
    {
     "data": {
      "image/png": "[encoded data removed]",
      "text/plain": [
       "<Figure size 432x288 with 1 Axes>"
      ]
     },
     "metadata": {
      "needs_background": "light"
     },
     "output_type": "display_data"
    }
   ],
   "source": [
    "#Let's visualize box plot of BILL_AMT:\n",
    "BILL_data = [b1, b2, b3, b4, b5, b6]\n",
    "fig, ax6 = plt.subplots()\n",
    "ax6.set_title('Multiple BILL_AMT')\n",
    "ax6.boxplot(BILL_data)\n",
    "\n",
    "plt.show()"
   ]
  },
  {
   "cell_type": "markdown",
   "metadata": {},
   "source": [
    "Boxplots of BILL_AMT shows lots of outliers in each variable. There don't seem to exist an average bill amount in any of BILL variable "
   ]
  },
  {
   "cell_type": "markdown",
   "metadata": {},
   "source": [
    "## Correlation\n",
    "\n",
    "Will use correlation to address collinearity and check for relationships between features for selection or engineering."
   ]
  },
  {
   "cell_type": "code",
   "execution_count": 23,
   "metadata": {},
   "outputs": [
    {
     "name": "stdout",
     "output_type": "stream",
     "text": [
      "                 LIMIT_BAL  EDUCATION       AGE     PAY_0     PAY_2     PAY_3  \\\n",
      "LIMIT_BAL         1.000000  -0.219161  0.144713 -0.271214 -0.296382 -0.286123   \n",
      "EDUCATION        -0.219161   1.000000  0.175061  0.105364  0.121566  0.114025   \n",
      "AGE               0.144713   0.175061  1.000000 -0.039447 -0.050148 -0.053048   \n",
      "PAY_0            -0.271214   0.105364 -0.039447  1.000000  0.672164  0.574245   \n",
      "PAY_2            -0.296382   0.121566 -0.050148  0.672164  1.000000  0.766552   \n",
      "PAY_3            -0.286123   0.114025 -0.053048  0.574245  0.766552  1.000000   \n",
      "PAY_4            -0.267460   0.108793 -0.049722  0.538841  0.662067  0.777359   \n",
      "PAY_5            -0.249411   0.097520 -0.053826  0.509426  0.622780  0.686775   \n",
      "PAY_6            -0.235195   0.082316 -0.048773  0.474553  0.575501  0.632684   \n",
      "BILL_AMT1         0.285430   0.023581  0.056239  0.187068  0.234887  0.208473   \n",
      "BILL_AMT2         0.278314   0.018749  0.054283  0.189859  0.235257  0.237295   \n",
      "BILL_AMT3         0.283236   0.013002  0.053710  0.179785  0.224146  0.227494   \n",
      "BILL_AMT4         0.293988  -0.000451  0.051353  0.179125  0.222237  0.227202   \n",
      "BILL_AMT5         0.295562  -0.007567  0.049345  0.180635  0.221348  0.225145   \n",
      "BILL_AMT6         0.290389  -0.009099  0.047613  0.176980  0.219403  0.222327   \n",
      "PAY_AMT1          0.195236  -0.037456  0.026147 -0.079269 -0.080701  0.001295   \n",
      "PAY_AMT2          0.178408  -0.030038  0.021785 -0.070101 -0.058990 -0.066793   \n",
      "PAY_AMT3          0.210167  -0.039943  0.029247 -0.070561 -0.055901 -0.053311   \n",
      "PAY_AMT4          0.203242  -0.038218  0.021379 -0.064005 -0.046858 -0.046067   \n",
      "PAY_AMT5          0.217202  -0.040358  0.022850 -0.058190 -0.037093 -0.035863   \n",
      "PAY_AMT6          0.219595  -0.037200  0.019478 -0.058673 -0.036500 -0.035861   \n",
      "default_payment  -0.153520   0.028006  0.013890  0.324794  0.263551  0.235253   \n",
      "\n",
      "                    PAY_4     PAY_5     PAY_6  BILL_AMT1  ...  BILL_AMT4  \\\n",
      "LIMIT_BAL       -0.267460 -0.249411 -0.235195   0.285430  ...   0.293988   \n",
      "EDUCATION        0.108793  0.097520  0.082316   0.023581  ...  -0.000451   \n",
      "AGE             -0.049722 -0.053826 -0.048773   0.056239  ...   0.051353   \n",
      "PAY_0            0.538841  0.509426  0.474553   0.187068  ...   0.179125   \n",
      "PAY_2            0.662067  0.622780  0.575501   0.234887  ...   0.222237   \n",
      "PAY_3            0.777359  0.686775  0.632684   0.208473  ...   0.227202   \n",
      "PAY_4            1.000000  0.819835  0.716449   0.202812  ...   0.245917   \n",
      "PAY_5            0.819835  1.000000  0.816900   0.206684  ...   0.271915   \n",
      "PAY_6            0.716449  0.816900  1.000000   0.207373  ...   0.266356   \n",
      "BILL_AMT1        0.202812  0.206684  0.207373   1.000000  ...   0.860272   \n",
      "BILL_AMT2        0.225816  0.226913  0.226924   0.951484  ...   0.892482   \n",
      "BILL_AMT3        0.244983  0.243335  0.241181   0.892279  ...   0.923969   \n",
      "BILL_AMT4        0.245917  0.271915  0.266356   0.860272  ...   1.000000   \n",
      "BILL_AMT5        0.242902  0.269783  0.290894   0.829779  ...   0.940134   \n",
      "BILL_AMT6        0.239154  0.262509  0.285091   0.802650  ...   0.900941   \n",
      "PAY_AMT1        -0.009362 -0.006089 -0.001496   0.140277  ...   0.233012   \n",
      "PAY_AMT2        -0.001944 -0.003191 -0.005223   0.099355  ...   0.207564   \n",
      "PAY_AMT3        -0.069235  0.009062  0.005834   0.156887  ...   0.300023   \n",
      "PAY_AMT4        -0.043461 -0.058299  0.019018   0.158303  ...   0.130191   \n",
      "PAY_AMT5        -0.033590 -0.033337 -0.046434   0.167026  ...   0.160433   \n",
      "PAY_AMT6        -0.026565 -0.023027 -0.025299   0.179341  ...   0.177637   \n",
      "default_payment  0.216614  0.204149  0.186866  -0.019644  ...  -0.010156   \n",
      "\n",
      "                 BILL_AMT5  BILL_AMT6  PAY_AMT1  PAY_AMT2  PAY_AMT3  PAY_AMT4  \\\n",
      "LIMIT_BAL         0.295562   0.290389  0.195236  0.178408  0.210167  0.203242   \n",
      "EDUCATION        -0.007567  -0.009099 -0.037456 -0.030038 -0.039943 -0.038218   \n",
      "AGE               0.049345   0.047613  0.026147  0.021785  0.029247  0.021379   \n",
      "PAY_0             0.180635   0.176980 -0.079269 -0.070101 -0.070561 -0.064005   \n",
      "PAY_2             0.221348   0.219403 -0.080701 -0.058990 -0.055901 -0.046858   \n",
      "PAY_3             0.225145   0.222327  0.001295 -0.066793 -0.053311 -0.046067   \n",
      "PAY_4             0.242902   0.239154 -0.009362 -0.001944 -0.069235 -0.043461   \n",
      "PAY_5             0.269783   0.262509 -0.006089 -0.003191  0.009062 -0.058299   \n",
      "PAY_6             0.290894   0.285091 -0.001496 -0.005223  0.005834  0.019018   \n",
      "BILL_AMT1         0.829779   0.802650  0.140277  0.099355  0.156887  0.158303   \n",
      "BILL_AMT2         0.859778   0.831594  0.280365  0.100851  0.150718  0.147398   \n",
      "BILL_AMT3         0.883910   0.853320  0.244335  0.316936  0.130011  0.143405   \n",
      "BILL_AMT4         0.940134   0.900941  0.233012  0.207564  0.300023  0.130191   \n",
      "BILL_AMT5         1.000000   0.946197  0.217031  0.181246  0.252305  0.293118   \n",
      "BILL_AMT6         0.946197   1.000000  0.199965  0.172663  0.233770  0.250237   \n",
      "PAY_AMT1          0.217031   0.199965  1.000000  0.285576  0.252191  0.199558   \n",
      "PAY_AMT2          0.181246   0.172663  0.285576  1.000000  0.244770  0.180107   \n",
      "PAY_AMT3          0.252305   0.233770  0.252191  0.244770  1.000000  0.216325   \n",
      "PAY_AMT4          0.293118   0.250237  0.199558  0.180107  0.216325  1.000000   \n",
      "PAY_AMT5          0.141574   0.307729  0.148459  0.180908  0.159214  0.151830   \n",
      "PAY_AMT6          0.164184   0.115494  0.185735  0.157634  0.162740  0.157834   \n",
      "default_payment  -0.006760  -0.005372 -0.072929 -0.058579 -0.056250 -0.056827   \n",
      "\n",
      "                 PAY_AMT5  PAY_AMT6  default_payment  \n",
      "LIMIT_BAL        0.217202  0.219595        -0.153520  \n",
      "EDUCATION       -0.040358 -0.037200         0.028006  \n",
      "AGE              0.022850  0.019478         0.013890  \n",
      "PAY_0           -0.058190 -0.058673         0.324794  \n",
      "PAY_2           -0.037093 -0.036500         0.263551  \n",
      "PAY_3           -0.035863 -0.035861         0.235253  \n",
      "PAY_4           -0.033590 -0.026565         0.216614  \n",
      "PAY_5           -0.033337 -0.023027         0.204149  \n",
      "PAY_6           -0.046434 -0.025299         0.186866  \n",
      "BILL_AMT1        0.167026  0.179341        -0.019644  \n",
      "BILL_AMT2        0.157957  0.174256        -0.014193  \n",
      "BILL_AMT3        0.179712  0.182326        -0.014076  \n",
      "BILL_AMT4        0.160433  0.177637        -0.010156  \n",
      "BILL_AMT5        0.141574  0.164184        -0.006760  \n",
      "BILL_AMT6        0.307729  0.115494        -0.005372  \n",
      "PAY_AMT1         0.148459  0.185735        -0.072929  \n",
      "PAY_AMT2         0.180908  0.157634        -0.058579  \n",
      "PAY_AMT3         0.159214  0.162740        -0.056250  \n",
      "PAY_AMT4         0.151830  0.157834        -0.056827  \n",
      "PAY_AMT5         1.000000  0.154896        -0.055124  \n",
      "PAY_AMT6         0.154896  1.000000        -0.053183  \n",
      "default_payment -0.055124 -0.053183         1.000000  \n",
      "\n",
      "[22 rows x 22 columns]\n"
     ]
    }
   ],
   "source": [
    "corrMat = new_LoanFileDF.corr()\n",
    "print(corrMat)"
   ]
  },
  {
   "cell_type": "code",
   "execution_count": 24,
   "metadata": {},
   "outputs": [
    {
     "data": {
      "text/plain": [
       "False"
      ]
     },
     "execution_count": 24,
     "metadata": {},
     "output_type": "execute_result"
    }
   ],
   "source": [
    "new_LoanFileDF['BILL_AMT3'].isnull().values.any()"
   ]
  },
  {
   "cell_type": "code",
   "execution_count": 25,
   "metadata": {},
   "outputs": [
    {
     "data": {
      "text/plain": [
       "False"
      ]
     },
     "execution_count": 25,
     "metadata": {},
     "output_type": "execute_result"
    }
   ],
   "source": [
    "new_LoanFileDF['AGE'].isnull().values.any()"
   ]
  },
  {
   "cell_type": "markdown",
   "metadata": {},
   "source": [
    "There is a strong correlation between the following variables:\n",
    "o\tPAY_4 and PAY3\n",
    "o\tPAY_4 and PAY_5\n",
    "o\tPAY_4 and PAY_6\n",
    "o\tPAY_5 and PAY_6\n",
    "o\tBetween BILL_AMT sub-categories\n"
   ]
  },
  {
   "cell_type": "markdown",
   "metadata": {},
   "source": [
    "## Covariance\n",
    "\n",
    "From our understanding of the strength of relationships between any two variables using correlation analysis above, we can ascertain the impact one feature has on another. Covariance is often used to gauge the linear degree of change between two variables. We'll then use covariance to measure how changes in one variable are associated with changes in another variable. This will be very important when studying the impact various features might have on default rates. "
   ]
  },
  {
   "cell_type": "code",
   "execution_count": 26,
   "metadata": {},
   "outputs": [
    {
     "name": "stdout",
     "output_type": "stream",
     "text": [
      "                    LIMIT_BAL     EDUCATION            AGE         PAY_0  \\\n",
      "LIMIT_BAL        1.683446e+10 -22474.028945  173076.722569 -39545.930009   \n",
      "EDUCATION       -2.247403e+04      0.624651       1.275380      0.093584   \n",
      "AGE              1.730767e+05      1.275380      84.969755     -0.408639   \n",
      "PAY_0           -3.954593e+04      0.093584      -0.408639      1.262930   \n",
      "PAY_2           -4.603765e+04      0.115025      -0.553408      0.904330   \n",
      "PAY_3           -4.443225e+04      0.107861      -0.585263      0.772384   \n",
      "PAY_4           -4.057181e+04      0.100528      -0.535851      0.707972   \n",
      "PAY_5           -3.667056e+04      0.087340      -0.562245      0.648743   \n",
      "PAY_6           -3.509308e+04      0.074816      -0.517022      0.613292   \n",
      "BILL_AMT1        2.727020e+09   1372.377644   38172.933546  15480.304170   \n",
      "BILL_AMT2        2.570130e+09   1054.657595   35613.657962  15185.916919   \n",
      "BILL_AMT3        2.548533e+09    712.664124   34334.251320  14011.556537   \n",
      "BILL_AMT4        2.453926e+09    -22.948827   30453.108180  12950.248389   \n",
      "BILL_AMT5        2.331481e+09   -363.577664   27654.067800  12341.668685   \n",
      "BILL_AMT6        2.243837e+09   -428.274232   26137.648547  11844.759724   \n",
      "PAY_AMT1         4.195711e+08   -490.330155    3992.041735  -1475.495089   \n",
      "PAY_AMT2         5.333504e+08   -547.005021    4626.861549  -1815.138407   \n",
      "PAY_AMT3         4.801180e+08   -555.834305    4746.824393  -1396.168258   \n",
      "PAY_AMT4         4.131202e+08   -473.206951    3087.324192  -1126.847945   \n",
      "PAY_AMT5         4.305657e+08   -487.335947    3218.052172   -999.107730   \n",
      "PAY_AMT6         5.065153e+08   -522.673379    3191.903901  -1172.193614   \n",
      "default_payment -8.267552e+03      0.009187       0.053143      0.151499   \n",
      "\n",
      "                        PAY_2         PAY_3         PAY_4         PAY_5  \\\n",
      "LIMIT_BAL       -46037.648360 -44432.253315 -40571.811859 -36670.562325   \n",
      "EDUCATION            0.115025      0.107861      0.100528      0.087340   \n",
      "AGE                 -0.553408     -0.585263     -0.535851     -0.562245   \n",
      "PAY_0                0.904330      0.772384      0.707972      0.648743   \n",
      "PAY_2                1.433254      1.098371      0.926680      0.844886   \n",
      "PAY_3                1.098371      1.432492      1.087761      0.931455   \n",
      "PAY_4                0.926680      1.087761      1.366885      1.086161   \n",
      "PAY_5                0.844886      0.931455      1.086161      1.284114   \n",
      "PAY_6                0.792320      0.870815      0.963263      1.064545   \n",
      "BILL_AMT1        20706.614217  18373.210469  17460.198259  17246.377531   \n",
      "BILL_AMT2        20045.829482  20214.071495  18790.627741  18301.285286   \n",
      "BILL_AMT3        18609.510991  18882.491544  19862.999426  19122.663330   \n",
      "BILL_AMT4        17116.298983  17494.100555  18496.423186  19822.925512   \n",
      "BILL_AMT5        16110.952468  16382.947539  17265.551898  18586.590324   \n",
      "BILL_AMT6        15642.875812  15847.089648  16651.586314  17715.690075   \n",
      "PAY_AMT1         -1600.240756     25.668468   -181.295613   -114.281714   \n",
      "PAY_AMT2         -1627.192336  -1841.952825    -52.358166    -83.324487   \n",
      "PAY_AMT3         -1178.331282  -1123.428782  -1425.205189    180.812142   \n",
      "PAY_AMT4          -878.843879   -863.762183   -796.035739  -1034.961970   \n",
      "PAY_AMT5          -678.468530   -655.796002   -599.991629   -577.161017   \n",
      "PAY_AMT6          -776.835035   -763.026041   -552.137338   -463.892613   \n",
      "default_payment      0.130960      0.116867      0.105115      0.096020   \n",
      "\n",
      "                        PAY_6     BILL_AMT1  ...     BILL_AMT4     BILL_AMT5  \\\n",
      "LIMIT_BAL       -35093.083441  2.727020e+09  ...  2.453926e+09  2.331481e+09   \n",
      "EDUCATION            0.074816  1.372378e+03  ... -2.294883e+01 -3.635777e+02   \n",
      "AGE                 -0.517022  3.817293e+04  ...  3.045311e+04  2.765407e+04   \n",
      "PAY_0                0.613292  1.548030e+04  ...  1.295025e+04  1.234167e+04   \n",
      "PAY_2                0.792320  2.070661e+04  ...  1.711630e+04  1.611095e+04   \n",
      "PAY_3                0.870815  1.837321e+04  ...  1.749410e+04  1.638295e+04   \n",
      "PAY_4                0.963263  1.746020e+04  ...  1.849642e+04  1.726555e+04   \n",
      "PAY_5                1.064545  1.724638e+04  ...  1.982293e+04  1.858659e+04   \n",
      "PAY_6                1.322472  1.756042e+04  ...  1.970555e+04  2.033812e+04   \n",
      "BILL_AMT1        17560.424872  5.422240e+09  ...  4.075286e+09  3.714795e+09   \n",
      "BILL_AMT2        18573.527165  4.986670e+09  ...  4.086508e+09  3.720401e+09   \n",
      "BILL_AMT3        19234.422476  4.556511e+09  ...  4.122238e+09  3.726780e+09   \n",
      "BILL_AMT4        19705.551629  4.075286e+09  ...  4.138716e+09  3.677105e+09   \n",
      "BILL_AMT5        20338.120325  3.714795e+09  ...  3.677105e+09  3.696294e+09   \n",
      "BILL_AMT6        19524.880348  3.519876e+09  ...  3.451762e+09  3.425914e+09   \n",
      "PAY_AMT1           -28.500666  1.710894e+08  ...  2.482888e+08  2.185501e+08   \n",
      "PAY_AMT2          -138.399452  1.685692e+08  ...  3.076686e+08  2.538936e+08   \n",
      "PAY_AMT3           118.121022  2.034048e+08  ...  3.398374e+08  2.700805e+08   \n",
      "PAY_AMT4           342.623730  1.826164e+08  ...  1.312133e+08  2.791830e+08   \n",
      "PAY_AMT5          -815.832688  1.879091e+08  ...  1.576892e+08  1.315051e+08   \n",
      "PAY_AMT6          -517.216277  2.347681e+08  ...  2.031590e+08  1.774537e+08   \n",
      "default_payment      0.089194 -6.003941e+02  ... -2.711999e+02 -1.705974e+02   \n",
      "\n",
      "                    BILL_AMT6      PAY_AMT1      PAY_AMT2      PAY_AMT3  \\\n",
      "LIMIT_BAL        2.243837e+09  4.195711e+08  5.333504e+08  4.801180e+08   \n",
      "EDUCATION       -4.282742e+02 -4.903302e+02 -5.470050e+02 -5.558343e+02   \n",
      "AGE              2.613765e+04  3.992042e+03  4.626862e+03  4.746824e+03   \n",
      "PAY_0            1.184476e+04 -1.475495e+03 -1.815138e+03 -1.396168e+03   \n",
      "PAY_2            1.564288e+04 -1.600241e+03 -1.627192e+03 -1.178331e+03   \n",
      "PAY_3            1.584709e+04  2.566847e+01 -1.841953e+03 -1.123429e+03   \n",
      "PAY_4            1.665159e+04 -1.812956e+02 -5.235817e+01 -1.425205e+03   \n",
      "PAY_5            1.771569e+04 -1.142817e+02 -8.332449e+01  1.808121e+02   \n",
      "PAY_6            1.952488e+04 -2.850067e+01 -1.383995e+02  1.181210e+02   \n",
      "BILL_AMT1        3.519876e+09  1.710894e+08  1.685692e+08  2.034048e+08   \n",
      "BILL_AMT2        3.524868e+09  3.305146e+08  1.653859e+08  1.888731e+08   \n",
      "BILL_AMT3        3.524247e+09  2.806565e+08  5.064226e+08  1.587478e+08   \n",
      "BILL_AMT4        3.451762e+09  2.482888e+08  3.076686e+08  3.398374e+08   \n",
      "BILL_AMT5        3.425914e+09  2.185501e+08  2.538936e+08  2.700805e+08   \n",
      "BILL_AMT6        3.546692e+09  1.972478e+08  2.369244e+08  2.451233e+08   \n",
      "PAY_AMT1         1.972478e+08  2.743423e+08  1.089849e+08  7.354626e+07   \n",
      "PAY_AMT2         2.369244e+08  1.089849e+08  5.308817e+08  9.929841e+07   \n",
      "PAY_AMT3         2.451233e+08  7.354626e+07  9.929841e+07  3.100051e+08   \n",
      "PAY_AMT4         2.334670e+08  5.178189e+07  6.501168e+07  5.966970e+07   \n",
      "PAY_AMT5         2.799982e+08  3.756893e+07  6.368414e+07  4.282921e+07   \n",
      "PAY_AMT6         1.222761e+08  5.469033e+07  6.456816e+07  5.093879e+07   \n",
      "default_payment -1.327963e+02 -5.013746e+02 -5.602107e+02 -4.110763e+02   \n",
      "\n",
      "                     PAY_AMT4      PAY_AMT5      PAY_AMT6  default_payment  \n",
      "LIMIT_BAL        4.131202e+08  4.305657e+08  5.065153e+08     -8267.551759  \n",
      "EDUCATION       -4.732070e+02 -4.873359e+02 -5.226734e+02         0.009187  \n",
      "AGE              3.087324e+03  3.218052e+03  3.191904e+03         0.053143  \n",
      "PAY_0           -1.126848e+03 -9.991077e+02 -1.172194e+03         0.151499  \n",
      "PAY_2           -8.788439e+02 -6.784685e+02 -7.768350e+02         0.130960  \n",
      "PAY_3           -8.637622e+02 -6.557960e+02 -7.630260e+02         0.116867  \n",
      "PAY_4           -7.960357e+02 -5.999916e+02 -5.521373e+02         0.105115  \n",
      "PAY_5           -1.034962e+03 -5.771610e+02 -4.638926e+02         0.096020  \n",
      "PAY_6            3.426237e+02 -8.158327e+02 -5.172163e+02         0.089194  \n",
      "BILL_AMT1        1.826164e+08  1.879091e+08  2.347681e+08      -600.394108  \n",
      "BILL_AMT2        1.643518e+08  1.717652e+08  2.204845e+08      -419.289137  \n",
      "BILL_AMT3        1.558003e+08  1.904126e+08  2.247817e+08      -405.153680  \n",
      "BILL_AMT4        1.312133e+08  1.576892e+08  2.031590e+08      -271.199885  \n",
      "BILL_AMT5        2.791830e+08  1.315051e+08  1.774537e+08      -170.597447  \n",
      "BILL_AMT6        2.334670e+08  2.799982e+08  1.222761e+08      -132.796294  \n",
      "PAY_AMT1         5.178189e+07  3.756893e+07  5.469033e+07      -501.374552  \n",
      "PAY_AMT2         6.501168e+07  6.368414e+07  6.456816e+07      -560.210740  \n",
      "PAY_AMT3         5.966970e+07  4.282921e+07  5.093879e+07      -411.076284  \n",
      "PAY_AMT4         2.454286e+08  3.634098e+07  4.395747e+07      -369.515887  \n",
      "PAY_AMT5         3.634098e+07  2.334266e+08  4.207110e+07      -349.562530  \n",
      "PAY_AMT6         4.395747e+07  4.207110e+07  3.160383e+08      -392.426415  \n",
      "default_payment -3.695159e+02 -3.495625e+02 -3.924264e+02         0.172276  \n",
      "\n",
      "[22 rows x 22 columns]\n"
     ]
    }
   ],
   "source": [
    "covMat = new_LoanFileDF.cov()\n",
    "print(covMat)"
   ]
  },
  {
   "cell_type": "code",
   "execution_count": 27,
   "metadata": {},
   "outputs": [],
   "source": [
    "# Remove highly correlated variables\n",
    "LoanFile2 = new_LoanFileDF.drop(['PAY_2', 'PAY_3', 'PAY_4', 'PAY_5', 'PAY_6',\n",
    "                                 'BILL_AMT2', 'BILL_AMT3', 'BILL_AMT4', 'BILL_AMT5', 'BILL_AMT6'], axis=1)"
   ]
  },
  {
   "cell_type": "code",
   "execution_count": 28,
   "metadata": {},
   "outputs": [
    {
     "data": {
      "text/html": [
       "<div>\n",
       "<style scoped>\n",
       "    .dataframe tbody tr th:only-of-type {\n",
       "        vertical-align: middle;\n",
       "    }\n",
       "\n",
       "    .dataframe tbody tr th {\n",
       "        vertical-align: top;\n",
       "    }\n",
       "\n",
       "    .dataframe thead th {\n",
       "        text-align: right;\n",
       "    }\n",
       "</style>\n",
       "<table border=\"1\" class=\"dataframe\">\n",
       "  <thead>\n",
       "    <tr style=\"text-align: right;\">\n",
       "      <th></th>\n",
       "      <th>LIMIT_BAL</th>\n",
       "      <th>EDUCATION</th>\n",
       "      <th>AGE</th>\n",
       "      <th>PAY_0</th>\n",
       "      <th>BILL_AMT1</th>\n",
       "      <th>PAY_AMT1</th>\n",
       "      <th>PAY_AMT2</th>\n",
       "      <th>PAY_AMT3</th>\n",
       "      <th>PAY_AMT4</th>\n",
       "      <th>PAY_AMT5</th>\n",
       "      <th>PAY_AMT6</th>\n",
       "      <th>default_payment</th>\n",
       "    </tr>\n",
       "  </thead>\n",
       "  <tbody>\n",
       "    <tr>\n",
       "      <th>0</th>\n",
       "      <td>20000</td>\n",
       "      <td>2</td>\n",
       "      <td>24</td>\n",
       "      <td>2</td>\n",
       "      <td>3913</td>\n",
       "      <td>0</td>\n",
       "      <td>689</td>\n",
       "      <td>0</td>\n",
       "      <td>0</td>\n",
       "      <td>0</td>\n",
       "      <td>0</td>\n",
       "      <td>1</td>\n",
       "    </tr>\n",
       "    <tr>\n",
       "      <th>1</th>\n",
       "      <td>120000</td>\n",
       "      <td>2</td>\n",
       "      <td>26</td>\n",
       "      <td>-1</td>\n",
       "      <td>2682</td>\n",
       "      <td>0</td>\n",
       "      <td>1000</td>\n",
       "      <td>1000</td>\n",
       "      <td>1000</td>\n",
       "      <td>0</td>\n",
       "      <td>2000</td>\n",
       "      <td>1</td>\n",
       "    </tr>\n",
       "    <tr>\n",
       "      <th>2</th>\n",
       "      <td>90000</td>\n",
       "      <td>2</td>\n",
       "      <td>34</td>\n",
       "      <td>0</td>\n",
       "      <td>29239</td>\n",
       "      <td>1518</td>\n",
       "      <td>1500</td>\n",
       "      <td>1000</td>\n",
       "      <td>1000</td>\n",
       "      <td>1000</td>\n",
       "      <td>5000</td>\n",
       "      <td>0</td>\n",
       "    </tr>\n",
       "    <tr>\n",
       "      <th>3</th>\n",
       "      <td>50000</td>\n",
       "      <td>2</td>\n",
       "      <td>37</td>\n",
       "      <td>0</td>\n",
       "      <td>46990</td>\n",
       "      <td>2000</td>\n",
       "      <td>2019</td>\n",
       "      <td>1200</td>\n",
       "      <td>1100</td>\n",
       "      <td>1069</td>\n",
       "      <td>1000</td>\n",
       "      <td>0</td>\n",
       "    </tr>\n",
       "    <tr>\n",
       "      <th>4</th>\n",
       "      <td>50000</td>\n",
       "      <td>2</td>\n",
       "      <td>57</td>\n",
       "      <td>-1</td>\n",
       "      <td>8617</td>\n",
       "      <td>2000</td>\n",
       "      <td>36681</td>\n",
       "      <td>10000</td>\n",
       "      <td>9000</td>\n",
       "      <td>689</td>\n",
       "      <td>679</td>\n",
       "      <td>0</td>\n",
       "    </tr>\n",
       "  </tbody>\n",
       "</table>\n",
       "</div>"
      ],
      "text/plain": [
       "   LIMIT_BAL  EDUCATION  AGE  PAY_0  BILL_AMT1  PAY_AMT1  PAY_AMT2  PAY_AMT3  \\\n",
       "0      20000          2   24      2       3913         0       689         0   \n",
       "1     120000          2   26     -1       2682         0      1000      1000   \n",
       "2      90000          2   34      0      29239      1518      1500      1000   \n",
       "3      50000          2   37      0      46990      2000      2019      1200   \n",
       "4      50000          2   57     -1       8617      2000     36681     10000   \n",
       "\n",
       "   PAY_AMT4  PAY_AMT5  PAY_AMT6  default_payment  \n",
       "0         0         0         0                1  \n",
       "1      1000         0      2000                1  \n",
       "2      1000      1000      5000                0  \n",
       "3      1100      1069      1000                0  \n",
       "4      9000       689       679                0  "
      ]
     },
     "execution_count": 28,
     "metadata": {},
     "output_type": "execute_result"
    }
   ],
   "source": [
    "LoanFile2.head()"
   ]
  },
  {
   "cell_type": "markdown",
   "metadata": {},
   "source": [
    "# Deep Exploration and Insights"
   ]
  },
  {
   "cell_type": "code",
   "execution_count": 29,
   "metadata": {},
   "outputs": [
    {
     "data": {
      "text/plain": [
       "EDUCATION\n",
       "0       14\n",
       "1    10585\n",
       "2    14030\n",
       "3     4917\n",
       "4      123\n",
       "5      280\n",
       "6       51\n",
       "Name: EDUCATION, dtype: int64"
      ]
     },
     "execution_count": 29,
     "metadata": {},
     "output_type": "execute_result"
    }
   ],
   "source": [
    "# Number of customers in each education level:\n",
    "# 1 = graduate school\n",
    "# 2 = university \n",
    "# 3 = high school \n",
    "# 0, 4, 5, 6 = others\n",
    "\n",
    "LoanFile2.groupby('EDUCATION')['EDUCATION'].count()"
   ]
  },
  {
   "cell_type": "code",
   "execution_count": 30,
   "metadata": {},
   "outputs": [
    {
     "data": {
      "text/plain": [
       "<seaborn.axisgrid.FacetGrid at 0x22c627cee80>"
      ]
     },
     "execution_count": 30,
     "metadata": {},
     "output_type": "execute_result"
    },
    {
     "data": {
      "image/png": "[encoded data removed]",
      "text/plain": [
       "<Figure size 540x360 with 1 Axes>"
      ]
     },
     "metadata": {
      "needs_background": "light"
     },
     "output_type": "display_data"
    }
   ],
   "source": [
    "# let's use seaborn to plot the count of customers in each educational level\n",
    "fEDL = sns.catplot('EDUCATION', data=LoanFile2, kind='count', aspect=1.5)\n",
    "fEDL.set_xlabels('Levels')"
   ]
  },
  {
   "cell_type": "markdown",
   "metadata": {},
   "source": [
    "The above plot above showes majority of the loan customers had minimum of high school diploma. We may draw assumption that they have jobs or were employed at the time of loan assumption. Intuitively, this is in line with a typical bank loan customers. We can also infer from the plot above that majority of the customers have at least a university degree. \n",
    "\n",
    "From this insight, could we say this creditor specifically targeting customers with at least a college degree for loan approval? How does this affect default rate?"
   ]
  },
  {
   "cell_type": "code",
   "execution_count": 31,
   "metadata": {},
   "outputs": [
    {
     "name": "stdout",
     "output_type": "stream",
     "text": [
      "79\n",
      "21\n"
     ]
    }
   ],
   "source": [
    "print(LoanFile2['AGE'].max())\n",
    "print(LoanFile2['AGE'].min())"
   ]
  },
  {
   "cell_type": "code",
   "execution_count": 32,
   "metadata": {},
   "outputs": [],
   "source": [
    "bins = [21, 30, 40, 50, 60, 70, 120]\n",
    "labels = ['21-29', '30-39', '40-49', '50-59', '60-69', '70+']\n",
    "LoanFile2['age_range'] = pd.cut(LoanFile2['AGE'], bins, labels = labels, include_lowest= True)\n"
   ]
  },
  {
   "cell_type": "code",
   "execution_count": 33,
   "metadata": {},
   "outputs": [
    {
     "data": {
      "text/plain": [
       "<seaborn.axisgrid.FacetGrid at 0x22c62621588>"
      ]
     },
     "execution_count": 33,
     "metadata": {},
     "output_type": "execute_result"
    },
    {
     "data": {
      "image/png": "[encoded data removed]",
      "text/plain": [
       "<Figure size 1260x360 with 1 Axes>"
      ]
     },
     "metadata": {
      "needs_background": "light"
     },
     "output_type": "display_data"
    }
   ],
   "source": [
    "# let's use seaborn to look at distribution of each age\n",
    "fEDL = sns.catplot('AGE', data=LoanFile2, kind='count', aspect=3.5)\n",
    "fEDL.set_xlabels('Levels')"
   ]
  },
  {
   "cell_type": "code",
   "execution_count": 34,
   "metadata": {},
   "outputs": [
    {
     "data": {
      "text/plain": [
       "<seaborn.axisgrid.FacetGrid at 0x22c625f24a8>"
      ]
     },
     "execution_count": 34,
     "metadata": {},
     "output_type": "execute_result"
    },
    {
     "data": {
      "image/png": "[encoded data removed]",
      "text/plain": [
       "<Figure size 1260x360 with 1 Axes>"
      ]
     },
     "metadata": {
      "needs_background": "light"
     },
     "output_type": "display_data"
    }
   ],
   "source": [
    "# let's use seaborn to look at distribution of age in bins\n",
    "fEDL = sns.catplot('age_range', data=LoanFile2, kind='count', aspect=3.5)\n",
    "fEDL.set_xlabels('Levels')"
   ]
  },
  {
   "cell_type": "markdown",
   "metadata": {},
   "source": [
    "The above plots show that majority of loan customers fall within ages 21 to 40. Another indication of younger customer base."
   ]
  },
  {
   "cell_type": "code",
   "execution_count": 35,
   "metadata": {},
   "outputs": [
    {
     "data": {
      "text/plain": [
       "age_range  EDUCATION  default_payment\n",
       "21-29      0          0                     3\n",
       "           1          0                  3505\n",
       "                      1                   799\n",
       "           2          0                  4098\n",
       "                      1                  1370\n",
       "           3          0                   788\n",
       "                      1                   293\n",
       "           4          0                    54\n",
       "                      1                     4\n",
       "           5          0                    88\n",
       "                      1                     4\n",
       "           6          0                     6\n",
       "                      1                     1\n",
       "30-39      0          0                     7\n",
       "           1          0                  3352\n",
       "                      1                   783\n",
       "           2          0                  3947\n",
       "                      1                  1087\n",
       "           3          0                  1069\n",
       "                      1                   311\n",
       "           4          0                    36\n",
       "                      1                     1\n",
       "           5          0                   106\n",
       "                      1                     6\n",
       "           6          0                     7\n",
       "                      1                     1\n",
       "40-49      0          0                     3\n",
       "           1          0                  1276\n",
       "                      1                   326\n",
       "           2          0                  2084\n",
       "                                         ... \n",
       "           5          1                     7\n",
       "           6          0                    20\n",
       "                      1                     4\n",
       "50-59      0          0                     1\n",
       "           1          0                   361\n",
       "                      1                   112\n",
       "           2          0                   518\n",
       "                      1                   192\n",
       "           3          0                   584\n",
       "                      1                   196\n",
       "           4          0                     4\n",
       "                      1                     1\n",
       "           5          0                    17\n",
       "                      1                     1\n",
       "           6          0                     8\n",
       "                      1                     2\n",
       "60-69      1          0                    52\n",
       "                      1                    15\n",
       "           2          0                    50\n",
       "                      1                    27\n",
       "           3          0                    84\n",
       "                      1                    26\n",
       "           5          0                     1\n",
       "           6          0                     2\n",
       "70+        1          0                     3\n",
       "                      1                     1\n",
       "           2          0                     3\n",
       "                      1                     1\n",
       "           3          0                     4\n",
       "                      1                     3\n",
       "Name: default_payment, Length: 66, dtype: int64"
      ]
     },
     "execution_count": 35,
     "metadata": {},
     "output_type": "execute_result"
    }
   ],
   "source": [
    "# Number of loan defaulted payment in each age range and educational level\n",
    "LoanFile2.groupby(['age_range', 'EDUCATION', 'default_payment'])['default_payment'].count()"
   ]
  },
  {
   "cell_type": "code",
   "execution_count": 36,
   "metadata": {},
   "outputs": [
    {
     "data": {
      "text/plain": [
       "<seaborn.axisgrid.FacetGrid at 0x22c61fe4710>"
      ]
     },
     "execution_count": 36,
     "metadata": {},
     "output_type": "execute_result"
    },
    {
     "data": {
      "image/png": "[encoded data removed]",
      "text/plain": [
       "<Figure size 785.125x360 with 1 Axes>"
      ]
     },
     "metadata": {
      "needs_background": "light"
     },
     "output_type": "display_data"
    }
   ],
   "source": [
    "# Again use seaborn to group by customer's behavior (default_payment) and age_range\n",
    "# 0 = No Default_Payment; 1 = Default_Payment\n",
    "\n",
    "gd = sns.catplot('default_payment', data=LoanFile2, hue='age_range', kind='count', aspect=2)\n",
    "gd.set_xlabels('Customer Behavior')\n"
   ]
  },
  {
   "cell_type": "markdown",
   "metadata": {},
   "source": [
    "Another insight derived from the data is that the younger customers have higher default_payment rate than older customers. There seems to exist a downward trend, the older the age group the better payment behavior. However, more insight analysis is required to understand if this is due to the population of each age group."
   ]
  },
  {
   "cell_type": "code",
   "execution_count": 37,
   "metadata": {},
   "outputs": [
    {
     "data": {
      "text/html": [
       "<div>\n",
       "<style scoped>\n",
       "    .dataframe tbody tr th:only-of-type {\n",
       "        vertical-align: middle;\n",
       "    }\n",
       "\n",
       "    .dataframe tbody tr th {\n",
       "        vertical-align: top;\n",
       "    }\n",
       "\n",
       "    .dataframe thead th {\n",
       "        text-align: right;\n",
       "    }\n",
       "</style>\n",
       "<table border=\"1\" class=\"dataframe\">\n",
       "  <thead>\n",
       "    <tr style=\"text-align: right;\">\n",
       "      <th>EDUCATION</th>\n",
       "      <th>0</th>\n",
       "      <th>1</th>\n",
       "      <th>2</th>\n",
       "      <th>3</th>\n",
       "      <th>4</th>\n",
       "      <th>5</th>\n",
       "      <th>6</th>\n",
       "      <th>All</th>\n",
       "    </tr>\n",
       "    <tr>\n",
       "      <th>age_range</th>\n",
       "      <th></th>\n",
       "      <th></th>\n",
       "      <th></th>\n",
       "      <th></th>\n",
       "      <th></th>\n",
       "      <th></th>\n",
       "      <th></th>\n",
       "      <th></th>\n",
       "    </tr>\n",
       "  </thead>\n",
       "  <tbody>\n",
       "    <tr>\n",
       "      <th>21-29</th>\n",
       "      <td>0.0</td>\n",
       "      <td>799.0</td>\n",
       "      <td>1370.0</td>\n",
       "      <td>293.0</td>\n",
       "      <td>4.0</td>\n",
       "      <td>4.0</td>\n",
       "      <td>1.0</td>\n",
       "      <td>2471</td>\n",
       "    </tr>\n",
       "    <tr>\n",
       "      <th>30-39</th>\n",
       "      <td>0.0</td>\n",
       "      <td>783.0</td>\n",
       "      <td>1087.0</td>\n",
       "      <td>311.0</td>\n",
       "      <td>1.0</td>\n",
       "      <td>6.0</td>\n",
       "      <td>1.0</td>\n",
       "      <td>2189</td>\n",
       "    </tr>\n",
       "    <tr>\n",
       "      <th>40-49</th>\n",
       "      <td>0.0</td>\n",
       "      <td>326.0</td>\n",
       "      <td>653.0</td>\n",
       "      <td>408.0</td>\n",
       "      <td>1.0</td>\n",
       "      <td>7.0</td>\n",
       "      <td>4.0</td>\n",
       "      <td>504</td>\n",
       "    </tr>\n",
       "    <tr>\n",
       "      <th>50-59</th>\n",
       "      <td>0.0</td>\n",
       "      <td>112.0</td>\n",
       "      <td>192.0</td>\n",
       "      <td>196.0</td>\n",
       "      <td>1.0</td>\n",
       "      <td>1.0</td>\n",
       "      <td>2.0</td>\n",
       "      <td>1399</td>\n",
       "    </tr>\n",
       "    <tr>\n",
       "      <th>60-69</th>\n",
       "      <td>NaN</td>\n",
       "      <td>15.0</td>\n",
       "      <td>27.0</td>\n",
       "      <td>26.0</td>\n",
       "      <td>NaN</td>\n",
       "      <td>0.0</td>\n",
       "      <td>0.0</td>\n",
       "      <td>68</td>\n",
       "    </tr>\n",
       "    <tr>\n",
       "      <th>70+</th>\n",
       "      <td>NaN</td>\n",
       "      <td>1.0</td>\n",
       "      <td>1.0</td>\n",
       "      <td>3.0</td>\n",
       "      <td>NaN</td>\n",
       "      <td>NaN</td>\n",
       "      <td>NaN</td>\n",
       "      <td>5</td>\n",
       "    </tr>\n",
       "    <tr>\n",
       "      <th>All</th>\n",
       "      <td>0.0</td>\n",
       "      <td>2036.0</td>\n",
       "      <td>3330.0</td>\n",
       "      <td>1237.0</td>\n",
       "      <td>7.0</td>\n",
       "      <td>18.0</td>\n",
       "      <td>8.0</td>\n",
       "      <td>6636</td>\n",
       "    </tr>\n",
       "  </tbody>\n",
       "</table>\n",
       "</div>"
      ],
      "text/plain": [
       "EDUCATION    0       1       2       3    4     5    6   All\n",
       "age_range                                                   \n",
       "21-29      0.0   799.0  1370.0   293.0  4.0   4.0  1.0  2471\n",
       "30-39      0.0   783.0  1087.0   311.0  1.0   6.0  1.0  2189\n",
       "40-49      0.0   326.0   653.0   408.0  1.0   7.0  4.0   504\n",
       "50-59      0.0   112.0   192.0   196.0  1.0   1.0  2.0  1399\n",
       "60-69      NaN    15.0    27.0    26.0  NaN   0.0  0.0    68\n",
       "70+        NaN     1.0     1.0     3.0  NaN   NaN  NaN     5\n",
       "All        0.0  2036.0  3330.0  1237.0  7.0  18.0  8.0  6636"
      ]
     },
     "execution_count": 37,
     "metadata": {},
     "output_type": "execute_result"
    }
   ],
   "source": [
    "# Number of customers with defaulted payment in each class grouped by age_range. \n",
    "# Also total was found for each class grouped by educational level.\n",
    "LoanFile2.pivot_table('default_payment', 'age_range', 'EDUCATION', aggfunc=np.sum, margins=True)"
   ]
  },
  {
   "cell_type": "code",
   "execution_count": 38,
   "metadata": {},
   "outputs": [
    {
     "name": "stdout",
     "output_type": "stream",
     "text": [
      "Average and median age of customers are 35 and 34 years old, respectively\n"
     ]
    }
   ],
   "source": [
    "print('Average and median age of customers are %0.f and %0.f years old, respectively'%(LoanFile2.AGE.mean(), \n",
    "                                                                          LoanFile2.AGE.median()))"
   ]
  },
  {
   "cell_type": "code",
   "execution_count": 39,
   "metadata": {},
   "outputs": [],
   "source": [
    "# Drop missing values for the records\n",
    "age = LoanFile2['AGE'].dropna()"
   ]
  },
  {
   "cell_type": "code",
   "execution_count": 40,
   "metadata": {},
   "outputs": [
    {
     "data": {
      "text/plain": [
       "Text(0.5, 1.0, \"Distribution of Customers' Ages\")"
      ]
     },
     "execution_count": 40,
     "metadata": {},
     "output_type": "execute_result"
    },
    {
     "data": {
      "image/png": "[encoded data removed]",
      "text/plain": [
       "<Figure size 432x288 with 1 Axes>"
      ]
     },
     "metadata": {
      "needs_background": "light"
     },
     "output_type": "display_data"
    }
   ],
   "source": [
    "# Distribution of customers age, with an overlay of a density plot\n",
    "age_dist = sns.distplot(age)\n",
    "age_dist.set_title(\"Distribution of Customers' Ages\")"
   ]
  },
  {
   "cell_type": "code",
   "execution_count": 41,
   "metadata": {},
   "outputs": [
    {
     "data": {
      "text/html": [
       "<div>\n",
       "<style scoped>\n",
       "    .dataframe tbody tr th:only-of-type {\n",
       "        vertical-align: middle;\n",
       "    }\n",
       "\n",
       "    .dataframe tbody tr th {\n",
       "        vertical-align: top;\n",
       "    }\n",
       "\n",
       "    .dataframe thead th {\n",
       "        text-align: right;\n",
       "    }\n",
       "</style>\n",
       "<table border=\"1\" class=\"dataframe\">\n",
       "  <thead>\n",
       "    <tr style=\"text-align: right;\">\n",
       "      <th></th>\n",
       "      <th>LIMIT_BAL</th>\n",
       "      <th>EDUCATION</th>\n",
       "      <th>AGE</th>\n",
       "      <th>PAY_0</th>\n",
       "      <th>BILL_AMT1</th>\n",
       "      <th>PAY_AMT1</th>\n",
       "      <th>PAY_AMT2</th>\n",
       "      <th>PAY_AMT3</th>\n",
       "      <th>PAY_AMT4</th>\n",
       "      <th>PAY_AMT5</th>\n",
       "      <th>PAY_AMT6</th>\n",
       "      <th>default_payment</th>\n",
       "    </tr>\n",
       "  </thead>\n",
       "  <tbody>\n",
       "    <tr>\n",
       "      <th>0</th>\n",
       "      <td>20000</td>\n",
       "      <td>2</td>\n",
       "      <td>24</td>\n",
       "      <td>2</td>\n",
       "      <td>3913</td>\n",
       "      <td>0</td>\n",
       "      <td>689</td>\n",
       "      <td>0</td>\n",
       "      <td>0</td>\n",
       "      <td>0</td>\n",
       "      <td>0</td>\n",
       "      <td>1</td>\n",
       "    </tr>\n",
       "    <tr>\n",
       "      <th>1</th>\n",
       "      <td>120000</td>\n",
       "      <td>2</td>\n",
       "      <td>26</td>\n",
       "      <td>-1</td>\n",
       "      <td>2682</td>\n",
       "      <td>0</td>\n",
       "      <td>1000</td>\n",
       "      <td>1000</td>\n",
       "      <td>1000</td>\n",
       "      <td>0</td>\n",
       "      <td>2000</td>\n",
       "      <td>1</td>\n",
       "    </tr>\n",
       "    <tr>\n",
       "      <th>2</th>\n",
       "      <td>90000</td>\n",
       "      <td>2</td>\n",
       "      <td>34</td>\n",
       "      <td>0</td>\n",
       "      <td>29239</td>\n",
       "      <td>1518</td>\n",
       "      <td>1500</td>\n",
       "      <td>1000</td>\n",
       "      <td>1000</td>\n",
       "      <td>1000</td>\n",
       "      <td>5000</td>\n",
       "      <td>0</td>\n",
       "    </tr>\n",
       "    <tr>\n",
       "      <th>3</th>\n",
       "      <td>50000</td>\n",
       "      <td>2</td>\n",
       "      <td>37</td>\n",
       "      <td>0</td>\n",
       "      <td>46990</td>\n",
       "      <td>2000</td>\n",
       "      <td>2019</td>\n",
       "      <td>1200</td>\n",
       "      <td>1100</td>\n",
       "      <td>1069</td>\n",
       "      <td>1000</td>\n",
       "      <td>0</td>\n",
       "    </tr>\n",
       "    <tr>\n",
       "      <th>4</th>\n",
       "      <td>50000</td>\n",
       "      <td>2</td>\n",
       "      <td>57</td>\n",
       "      <td>-1</td>\n",
       "      <td>8617</td>\n",
       "      <td>2000</td>\n",
       "      <td>36681</td>\n",
       "      <td>10000</td>\n",
       "      <td>9000</td>\n",
       "      <td>689</td>\n",
       "      <td>679</td>\n",
       "      <td>0</td>\n",
       "    </tr>\n",
       "  </tbody>\n",
       "</table>\n",
       "</div>"
      ],
      "text/plain": [
       "   LIMIT_BAL  EDUCATION  AGE  PAY_0  BILL_AMT1  PAY_AMT1  PAY_AMT2  PAY_AMT3  \\\n",
       "0      20000          2   24      2       3913         0       689         0   \n",
       "1     120000          2   26     -1       2682         0      1000      1000   \n",
       "2      90000          2   34      0      29239      1518      1500      1000   \n",
       "3      50000          2   37      0      46990      2000      2019      1200   \n",
       "4      50000          2   57     -1       8617      2000     36681     10000   \n",
       "\n",
       "   PAY_AMT4  PAY_AMT5  PAY_AMT6  default_payment  \n",
       "0         0         0         0                1  \n",
       "1      1000         0      2000                1  \n",
       "2      1000      1000      5000                0  \n",
       "3      1100      1069      1000                0  \n",
       "4      9000       689       679                0  "
      ]
     },
     "execution_count": 41,
     "metadata": {},
     "output_type": "execute_result"
    }
   ],
   "source": [
    "LoanFile3 = LoanFile2.drop(['age_range'], axis=1)\n",
    "LoanFile3.head()"
   ]
  },
  {
   "cell_type": "code",
   "execution_count": 42,
   "metadata": {},
   "outputs": [],
   "source": [
    "# create a new preprocessed dataset .csv file to be used for building models\n",
    "LoanFile4 = LoanFile3.to_csv(r\"C:\\Users\\ietuk\\Documents\\gitHub_Python\\LoanFile4.csv\", index = None, header=True)"
   ]
  },
  {
   "cell_type": "code",
   "execution_count": 43,
   "metadata": {},
   "outputs": [
    {
     "data": {
      "text/html": [
       "<div>\n",
       "<style scoped>\n",
       "    .dataframe tbody tr th:only-of-type {\n",
       "        vertical-align: middle;\n",
       "    }\n",
       "\n",
       "    .dataframe tbody tr th {\n",
       "        vertical-align: top;\n",
       "    }\n",
       "\n",
       "    .dataframe thead th {\n",
       "        text-align: right;\n",
       "    }\n",
       "</style>\n",
       "<table border=\"1\" class=\"dataframe\">\n",
       "  <thead>\n",
       "    <tr style=\"text-align: right;\">\n",
       "      <th></th>\n",
       "      <th>LIMIT_BAL</th>\n",
       "      <th>EDUCATION</th>\n",
       "      <th>AGE</th>\n",
       "      <th>PAY_0</th>\n",
       "      <th>BILL_AMT1</th>\n",
       "      <th>PAY_AMT1</th>\n",
       "      <th>PAY_AMT2</th>\n",
       "      <th>PAY_AMT3</th>\n",
       "      <th>PAY_AMT4</th>\n",
       "      <th>PAY_AMT5</th>\n",
       "      <th>PAY_AMT6</th>\n",
       "      <th>default_payment</th>\n",
       "    </tr>\n",
       "  </thead>\n",
       "  <tbody>\n",
       "    <tr>\n",
       "      <th>0</th>\n",
       "      <td>20000</td>\n",
       "      <td>2</td>\n",
       "      <td>24</td>\n",
       "      <td>2</td>\n",
       "      <td>3913</td>\n",
       "      <td>0</td>\n",
       "      <td>689</td>\n",
       "      <td>0</td>\n",
       "      <td>0</td>\n",
       "      <td>0</td>\n",
       "      <td>0</td>\n",
       "      <td>1</td>\n",
       "    </tr>\n",
       "    <tr>\n",
       "      <th>1</th>\n",
       "      <td>120000</td>\n",
       "      <td>2</td>\n",
       "      <td>26</td>\n",
       "      <td>-1</td>\n",
       "      <td>2682</td>\n",
       "      <td>0</td>\n",
       "      <td>1000</td>\n",
       "      <td>1000</td>\n",
       "      <td>1000</td>\n",
       "      <td>0</td>\n",
       "      <td>2000</td>\n",
       "      <td>1</td>\n",
       "    </tr>\n",
       "    <tr>\n",
       "      <th>2</th>\n",
       "      <td>90000</td>\n",
       "      <td>2</td>\n",
       "      <td>34</td>\n",
       "      <td>0</td>\n",
       "      <td>29239</td>\n",
       "      <td>1518</td>\n",
       "      <td>1500</td>\n",
       "      <td>1000</td>\n",
       "      <td>1000</td>\n",
       "      <td>1000</td>\n",
       "      <td>5000</td>\n",
       "      <td>0</td>\n",
       "    </tr>\n",
       "    <tr>\n",
       "      <th>3</th>\n",
       "      <td>50000</td>\n",
       "      <td>2</td>\n",
       "      <td>37</td>\n",
       "      <td>0</td>\n",
       "      <td>46990</td>\n",
       "      <td>2000</td>\n",
       "      <td>2019</td>\n",
       "      <td>1200</td>\n",
       "      <td>1100</td>\n",
       "      <td>1069</td>\n",
       "      <td>1000</td>\n",
       "      <td>0</td>\n",
       "    </tr>\n",
       "    <tr>\n",
       "      <th>4</th>\n",
       "      <td>50000</td>\n",
       "      <td>2</td>\n",
       "      <td>57</td>\n",
       "      <td>-1</td>\n",
       "      <td>8617</td>\n",
       "      <td>2000</td>\n",
       "      <td>36681</td>\n",
       "      <td>10000</td>\n",
       "      <td>9000</td>\n",
       "      <td>689</td>\n",
       "      <td>679</td>\n",
       "      <td>0</td>\n",
       "    </tr>\n",
       "  </tbody>\n",
       "</table>\n",
       "</div>"
      ],
      "text/plain": [
       "   LIMIT_BAL  EDUCATION  AGE  PAY_0  BILL_AMT1  PAY_AMT1  PAY_AMT2  PAY_AMT3  \\\n",
       "0      20000          2   24      2       3913         0       689         0   \n",
       "1     120000          2   26     -1       2682         0      1000      1000   \n",
       "2      90000          2   34      0      29239      1518      1500      1000   \n",
       "3      50000          2   37      0      46990      2000      2019      1200   \n",
       "4      50000          2   57     -1       8617      2000     36681     10000   \n",
       "\n",
       "   PAY_AMT4  PAY_AMT5  PAY_AMT6  default_payment  \n",
       "0         0         0         0                1  \n",
       "1      1000         0      2000                1  \n",
       "2      1000      1000      5000                0  \n",
       "3      1100      1069      1000                0  \n",
       "4      9000       689       679                0  "
      ]
     },
     "execution_count": 43,
     "metadata": {},
     "output_type": "execute_result"
    }
   ],
   "source": [
    "LoanFile3.head()"
   ]
  },
  {
   "cell_type": "markdown",
   "metadata": {},
   "source": [
    "# Using Sci-Kit Learn to Build Models\n",
    "\n",
    "Sci-Kit Learn will be used to create test/train sets. Here, we will have Training Data divided into two parts: one set for the predictor features (X-values) and a related set for the outcomes (y-values). Both sets should match the training split size of 80%.\n",
    "\n",
    "My Testing data follows the same rules and contains two sets: one for the X-values or features and a second for the ground truth (y_test), which I will used to compare my predictions to. Testing data is composed of what is left over from the training data, which is 20%."
   ]
  },
  {
   "cell_type": "code",
   "execution_count": 44,
   "metadata": {},
   "outputs": [],
   "source": [
    "# imports of lib. for model building\n",
    "# numpy, scipy, pandas, math, matplotlib\n",
    "import pandas as pd\n",
    "import numpy as np\n",
    "import matplotlib.pyplot as plt\n",
    "import seaborn as sns\n",
    "import scipy\n",
    "from math import sqrt\n",
    "from IPython.core.interactiveshell import InteractiveShell\n",
    "\n",
    "# import estimators models\n",
    "from sklearn.ensemble import RandomForestClassifier\n",
    "\n",
    "# cross validation of train and test sets\n",
    "from sklearn.model_selection import train_test_split, cross_val_score, KFold\n",
    "\n",
    "# This allows full output of a cell rather than than just the last result\n",
    "from IPython.core.interactiveshell import InteractiveShell\n",
    "InteractiveShell.ast_node_interactivity = \"all\"\n",
    "\n",
    "#model metrics\n",
    "from sklearn.metrics import mean_squared_error\n",
    "from sklearn.metrics import r2_score\n",
    "from sklearn.pipeline import Pipeline, FeatureUnion\n",
    "from sklearn.model_selection import cross_val_score\n",
    "from scipy import stats as st\n",
    "from scipy.stats import randint as sp_randint\n",
    "from scipy.stats import beta\n"
   ]
  },
  {
   "cell_type": "markdown",
   "metadata": {},
   "source": [
    "Keeping focus on the business problem or objective. The client specifically asked us to use Sci-Kit-Learn library for this analysis because it is likely to be compatible to a custom software solution they plan to deploy.\n",
    "\n",
    "This analysis will employ a guideline where data tells the story – No assumptions."
   ]
  },
  {
   "cell_type": "markdown",
   "metadata": {},
   "source": [
    "# Feature Selection\n",
    "In this analysis, we will focus the financial data instead of demographic data or attributes. With that in mind, all demographic attributes will be removed because of prior model performances."
   ]
  },
  {
   "cell_type": "code",
   "execution_count": 45,
   "metadata": {},
   "outputs": [],
   "source": [
    "# Convert Target attribute to categorical\n",
    "LoanFile3['default_payment'] = pd.Categorical(LoanFile3.default_payment)"
   ]
  },
  {
   "cell_type": "code",
   "execution_count": 46,
   "metadata": {},
   "outputs": [
    {
     "data": {
      "text/plain": [
       "count     30000\n",
       "unique        2\n",
       "top           0\n",
       "freq      23364\n",
       "Name: default_payment, dtype: int64"
      ]
     },
     "execution_count": 46,
     "metadata": {},
     "output_type": "execute_result"
    }
   ],
   "source": [
    "LoanFile3['default_payment'].describe()"
   ]
  },
  {
   "cell_type": "code",
   "execution_count": 47,
   "metadata": {},
   "outputs": [],
   "source": [
    "# select only financial data independent features and dependent variable\n",
    "x = LoanFile3.iloc[:,3:11]\n",
    "y = LoanFile3['default_payment']"
   ]
  },
  {
   "cell_type": "code",
   "execution_count": 48,
   "metadata": {},
   "outputs": [
    {
     "data": {
      "text/html": [
       "<div>\n",
       "<style scoped>\n",
       "    .dataframe tbody tr th:only-of-type {\n",
       "        vertical-align: middle;\n",
       "    }\n",
       "\n",
       "    .dataframe tbody tr th {\n",
       "        vertical-align: top;\n",
       "    }\n",
       "\n",
       "    .dataframe thead th {\n",
       "        text-align: right;\n",
       "    }\n",
       "</style>\n",
       "<table border=\"1\" class=\"dataframe\">\n",
       "  <thead>\n",
       "    <tr style=\"text-align: right;\">\n",
       "      <th></th>\n",
       "      <th>PAY_0</th>\n",
       "      <th>BILL_AMT1</th>\n",
       "      <th>PAY_AMT1</th>\n",
       "      <th>PAY_AMT2</th>\n",
       "      <th>PAY_AMT3</th>\n",
       "      <th>PAY_AMT4</th>\n",
       "      <th>PAY_AMT5</th>\n",
       "      <th>PAY_AMT6</th>\n",
       "    </tr>\n",
       "  </thead>\n",
       "  <tbody>\n",
       "    <tr>\n",
       "      <th>0</th>\n",
       "      <td>2</td>\n",
       "      <td>3913</td>\n",
       "      <td>0</td>\n",
       "      <td>689</td>\n",
       "      <td>0</td>\n",
       "      <td>0</td>\n",
       "      <td>0</td>\n",
       "      <td>0</td>\n",
       "    </tr>\n",
       "    <tr>\n",
       "      <th>1</th>\n",
       "      <td>-1</td>\n",
       "      <td>2682</td>\n",
       "      <td>0</td>\n",
       "      <td>1000</td>\n",
       "      <td>1000</td>\n",
       "      <td>1000</td>\n",
       "      <td>0</td>\n",
       "      <td>2000</td>\n",
       "    </tr>\n",
       "    <tr>\n",
       "      <th>2</th>\n",
       "      <td>0</td>\n",
       "      <td>29239</td>\n",
       "      <td>1518</td>\n",
       "      <td>1500</td>\n",
       "      <td>1000</td>\n",
       "      <td>1000</td>\n",
       "      <td>1000</td>\n",
       "      <td>5000</td>\n",
       "    </tr>\n",
       "    <tr>\n",
       "      <th>3</th>\n",
       "      <td>0</td>\n",
       "      <td>46990</td>\n",
       "      <td>2000</td>\n",
       "      <td>2019</td>\n",
       "      <td>1200</td>\n",
       "      <td>1100</td>\n",
       "      <td>1069</td>\n",
       "      <td>1000</td>\n",
       "    </tr>\n",
       "    <tr>\n",
       "      <th>4</th>\n",
       "      <td>-1</td>\n",
       "      <td>8617</td>\n",
       "      <td>2000</td>\n",
       "      <td>36681</td>\n",
       "      <td>10000</td>\n",
       "      <td>9000</td>\n",
       "      <td>689</td>\n",
       "      <td>679</td>\n",
       "    </tr>\n",
       "  </tbody>\n",
       "</table>\n",
       "</div>"
      ],
      "text/plain": [
       "   PAY_0  BILL_AMT1  PAY_AMT1  PAY_AMT2  PAY_AMT3  PAY_AMT4  PAY_AMT5  \\\n",
       "0      2       3913         0       689         0         0         0   \n",
       "1     -1       2682         0      1000      1000      1000         0   \n",
       "2      0      29239      1518      1500      1000      1000      1000   \n",
       "3      0      46990      2000      2019      1200      1100      1069   \n",
       "4     -1       8617      2000     36681     10000      9000       689   \n",
       "\n",
       "   PAY_AMT6  \n",
       "0         0  \n",
       "1      2000  \n",
       "2      5000  \n",
       "3      1000  \n",
       "4       679  "
      ]
     },
     "execution_count": 48,
     "metadata": {},
     "output_type": "execute_result"
    }
   ],
   "source": [
    "x.head()"
   ]
  },
  {
   "cell_type": "markdown",
   "metadata": {},
   "source": [
    "# Data Partition"
   ]
  },
  {
   "cell_type": "code",
   "execution_count": 49,
   "metadata": {},
   "outputs": [],
   "source": [
    "# Selecting features\n",
    "# select train  and test sets, using 80/20 rule and set.seed at 50 using random_state\n",
    "\n",
    "from sklearn.model_selection import train_test_split\n",
    "x_train, x_test, y_train, y_test, = train_test_split(x, y, test_size = 0.2, random_state = 50)\n",
    "yt = y_test"
   ]
  },
  {
   "cell_type": "code",
   "execution_count": 50,
   "metadata": {},
   "outputs": [
    {
     "data": {
      "text/html": [
       "<div>\n",
       "<style scoped>\n",
       "    .dataframe tbody tr th:only-of-type {\n",
       "        vertical-align: middle;\n",
       "    }\n",
       "\n",
       "    .dataframe tbody tr th {\n",
       "        vertical-align: top;\n",
       "    }\n",
       "\n",
       "    .dataframe thead th {\n",
       "        text-align: right;\n",
       "    }\n",
       "</style>\n",
       "<table border=\"1\" class=\"dataframe\">\n",
       "  <thead>\n",
       "    <tr style=\"text-align: right;\">\n",
       "      <th></th>\n",
       "      <th>PAY_0</th>\n",
       "      <th>BILL_AMT1</th>\n",
       "      <th>PAY_AMT1</th>\n",
       "      <th>PAY_AMT2</th>\n",
       "      <th>PAY_AMT3</th>\n",
       "      <th>PAY_AMT4</th>\n",
       "      <th>PAY_AMT5</th>\n",
       "      <th>PAY_AMT6</th>\n",
       "    </tr>\n",
       "  </thead>\n",
       "  <tbody>\n",
       "    <tr>\n",
       "      <th>14492</th>\n",
       "      <td>0</td>\n",
       "      <td>50286</td>\n",
       "      <td>61101</td>\n",
       "      <td>3210</td>\n",
       "      <td>3911</td>\n",
       "      <td>3354</td>\n",
       "      <td>3400</td>\n",
       "      <td>3500</td>\n",
       "    </tr>\n",
       "    <tr>\n",
       "      <th>1072</th>\n",
       "      <td>-1</td>\n",
       "      <td>148341</td>\n",
       "      <td>8405</td>\n",
       "      <td>15052</td>\n",
       "      <td>3805</td>\n",
       "      <td>20467</td>\n",
       "      <td>3253</td>\n",
       "      <td>27168</td>\n",
       "    </tr>\n",
       "    <tr>\n",
       "      <th>6092</th>\n",
       "      <td>-2</td>\n",
       "      <td>1198</td>\n",
       "      <td>12003</td>\n",
       "      <td>5000</td>\n",
       "      <td>16864</td>\n",
       "      <td>18000</td>\n",
       "      <td>20025</td>\n",
       "      <td>51514</td>\n",
       "    </tr>\n",
       "    <tr>\n",
       "      <th>22895</th>\n",
       "      <td>1</td>\n",
       "      <td>110593</td>\n",
       "      <td>4363</td>\n",
       "      <td>0</td>\n",
       "      <td>4012</td>\n",
       "      <td>3120</td>\n",
       "      <td>2800</td>\n",
       "      <td>3000</td>\n",
       "    </tr>\n",
       "    <tr>\n",
       "      <th>20594</th>\n",
       "      <td>0</td>\n",
       "      <td>41266</td>\n",
       "      <td>27004</td>\n",
       "      <td>1613</td>\n",
       "      <td>1484</td>\n",
       "      <td>3675</td>\n",
       "      <td>698</td>\n",
       "      <td>1000</td>\n",
       "    </tr>\n",
       "  </tbody>\n",
       "</table>\n",
       "</div>"
      ],
      "text/plain": [
       "       PAY_0  BILL_AMT1  PAY_AMT1  PAY_AMT2  PAY_AMT3  PAY_AMT4  PAY_AMT5  \\\n",
       "14492      0      50286     61101      3210      3911      3354      3400   \n",
       "1072      -1     148341      8405     15052      3805     20467      3253   \n",
       "6092      -2       1198     12003      5000     16864     18000     20025   \n",
       "22895      1     110593      4363         0      4012      3120      2800   \n",
       "20594      0      41266     27004      1613      1484      3675       698   \n",
       "\n",
       "       PAY_AMT6  \n",
       "14492      3500  \n",
       "1072      27168  \n",
       "6092      51514  \n",
       "22895      3000  \n",
       "20594      1000  "
      ]
     },
     "execution_count": 50,
     "metadata": {},
     "output_type": "execute_result"
    }
   ],
   "source": [
    "x_train.head()"
   ]
  },
  {
   "cell_type": "markdown",
   "metadata": {},
   "source": [
    "Verifying content of the target"
   ]
  },
  {
   "cell_type": "code",
   "execution_count": 51,
   "metadata": {},
   "outputs": [
    {
     "data": {
      "text/plain": [
       "count     6000\n",
       "unique       2\n",
       "top          0\n",
       "freq      4733\n",
       "Name: default_payment, dtype: int64"
      ]
     },
     "execution_count": 51,
     "metadata": {},
     "output_type": "execute_result"
    }
   ],
   "source": [
    "y_test.describe()"
   ]
  },
  {
   "cell_type": "markdown",
   "metadata": {},
   "source": [
    "## Data Normalization\n",
    "\n",
    "In order to optimized our model, it;s important to normalize our training and testing data."
   ]
  },
  {
   "cell_type": "code",
   "execution_count": 52,
   "metadata": {},
   "outputs": [],
   "source": [
    "# Let's take mean of the train and test data as well as the standard deviation of all the columns\n",
    "mean = x_train.mean(axis=0)\n",
    "x_train -= mean #subtract the mean from all train data point\n",
    "STD = x_train.std(axis=0)\n",
    "x_train /= STD #divide standard deviation from train data point\n",
    "\n",
    "# supply same mean and standard deviation to testing data\n",
    "x_test -= mean\n",
    "x_test /= STD"
   ]
  },
  {
   "cell_type": "code",
   "execution_count": 53,
   "metadata": {},
   "outputs": [
    {
     "data": {
      "text/plain": [
       "(24000, 8)"
      ]
     },
     "execution_count": 53,
     "metadata": {},
     "output_type": "execute_result"
    },
    {
     "data": {
      "text/plain": [
       "(6000, 8)"
      ]
     },
     "execution_count": 53,
     "metadata": {},
     "output_type": "execute_result"
    },
    {
     "data": {
      "text/plain": [
       "(24000,)"
      ]
     },
     "execution_count": 53,
     "metadata": {},
     "output_type": "execute_result"
    },
    {
     "data": {
      "text/plain": [
       "(6000,)"
      ]
     },
     "execution_count": 53,
     "metadata": {},
     "output_type": "execute_result"
    }
   ],
   "source": [
    "x_train.shape\n",
    "x_test.shape\n",
    "y_train.shape\n",
    "y_test.shape"
   ]
  },
  {
   "cell_type": "code",
   "execution_count": 54,
   "metadata": {},
   "outputs": [
    {
     "data": {
      "text/plain": [
       "CategoricalDtype(categories=[0, 1], ordered=False)"
      ]
     },
     "execution_count": 54,
     "metadata": {},
     "output_type": "execute_result"
    }
   ],
   "source": [
    "y_test.dtypes"
   ]
  },
  {
   "cell_type": "markdown",
   "metadata": {},
   "source": [
    "# Model"
   ]
  },
  {
   "cell_type": "code",
   "execution_count": 55,
   "metadata": {},
   "outputs": [],
   "source": [
    "# Select model and visualize RF Decision Tree estimate in sklearn\n",
    "modelRF = RandomForestClassifier(n_estimators=10)"
   ]
  },
  {
   "cell_type": "markdown",
   "metadata": {},
   "source": [
    "## Fitting the Model\n",
    "\n",
    "To fit the model, will utilize live-loss plot so we can view the plot as the model is running"
   ]
  },
  {
   "cell_type": "code",
   "execution_count": 56,
   "metadata": {},
   "outputs": [
    {
     "data": {
      "text/plain": [
       "RandomForestClassifier(bootstrap=True, class_weight=None, criterion='gini',\n",
       "                       max_depth=None, max_features='auto', max_leaf_nodes=None,\n",
       "                       min_impurity_decrease=0.0, min_impurity_split=None,\n",
       "                       min_samples_leaf=1, min_samples_split=2,\n",
       "                       min_weight_fraction_leaf=0.0, n_estimators=10,\n",
       "                       n_jobs=None, oob_score=False, random_state=None,\n",
       "                       verbose=0, warm_start=False)"
      ]
     },
     "execution_count": 56,
     "metadata": {},
     "output_type": "execute_result"
    }
   ],
   "source": [
    "#Model Fitting. RF model is selected based on performance metrics previously\n",
    "modelRF.fit(x_train,y_train)"
   ]
  },
  {
   "cell_type": "code",
   "execution_count": 57,
   "metadata": {},
   "outputs": [
    {
     "name": "stderr",
     "output_type": "stream",
     "text": [
      "C:\\ProgramData\\Anaconda3\\lib\\site-packages\\sklearn\\model_selection\\_split.py:1978: FutureWarning: The default value of cv will change from 3 to 5 in version 0.22. Specify it explicitly to silence this warning.\n",
      "  warnings.warn(CV_WARNING, FutureWarning)\n"
     ]
    },
    {
     "name": "stdout",
     "output_type": "stream",
     "text": [
      "[0.80064992 0.801      0.80222528]\n"
     ]
    },
    {
     "data": {
      "text/plain": [
       "0.9673333333333334"
      ]
     },
     "execution_count": 57,
     "metadata": {},
     "output_type": "execute_result"
    }
   ],
   "source": [
    "#Model Fitting. RF model is selected based on performance metrics previously\n",
    "print(cross_val_score(modelRF, x_train, y_train))\n",
    "modelRF.score(x_train,y_train)"
   ]
  },
  {
   "cell_type": "markdown",
   "metadata": {},
   "source": [
    "These values correspond to the the following:\n",
    "\n",
    "1st value:  The score array for test scores on each cv split. (Higher is an indicator of a better performing model)\n",
    "2nd value: The time for fitting the estimator on the train set for each cv split.\n",
    "3rd Value:  The time for scoring the estimator on the test set for each cv split. "
   ]
  },
  {
   "cell_type": "markdown",
   "metadata": {},
   "source": [
    "# Making Predictions\n",
    "\n",
    "Making a prediction with Random Forest model"
   ]
  },
  {
   "cell_type": "code",
   "execution_count": 58,
   "metadata": {},
   "outputs": [
    {
     "data": {
      "text/plain": [
       "array([0, 0, 0, ..., 0, 0, 0], dtype=int64)"
      ]
     },
     "execution_count": 58,
     "metadata": {},
     "output_type": "execute_result"
    }
   ],
   "source": [
    "# predict classification\n",
    "y_pred = modelRF.predict(x_test)\n",
    "y_pred"
   ]
  },
  {
   "cell_type": "markdown",
   "metadata": {},
   "source": [
    "From the above y_test content results, the followings (\"1\" for default) or (\"0\" for no default) will be drawn from the model predictions."
   ]
  },
  {
   "cell_type": "code",
   "execution_count": 59,
   "metadata": {},
   "outputs": [
    {
     "name": "stdout",
     "output_type": "stream",
     "text": [
      "Accuracy: 0.8106666666666666\n"
     ]
    }
   ],
   "source": [
    "# Calculate the errors\n",
    "from sklearn import metrics\n",
    "print(\"Accuracy:\", metrics.accuracy_score(y_test, y_pred))\n"
   ]
  },
  {
   "cell_type": "markdown",
   "metadata": {},
   "source": [
    "## Finding Important Features in Scikit-learn\n",
    "\n",
    "Finding important features or selecting features in the dataset. In scikit-learn, we'll perform this task in the following steps:\n",
    "\n",
    "1. create a random forests model.\n",
    "2. use the feature importance variable to see feature importance scores.\n",
    "3. visualize these scores using the seaborn library."
   ]
  },
  {
   "cell_type": "code",
   "execution_count": 60,
   "metadata": {},
   "outputs": [
    {
     "data": {
      "text/plain": [
       "BILL_AMT1    0.171901\n",
       "PAY_0        0.169119\n",
       "PAY_AMT1     0.122736\n",
       "PAY_AMT2     0.118369\n",
       "PAY_AMT3     0.104996\n",
       "PAY_AMT5     0.104881\n",
       "PAY_AMT4     0.104198\n",
       "PAY_AMT6     0.103800\n",
       "dtype: float64"
      ]
     },
     "execution_count": 60,
     "metadata": {},
     "output_type": "execute_result"
    }
   ],
   "source": [
    "import pandas as pd\n",
    "feature_imp = pd.Series(modelRF.feature_importances_,index=x.columns).sort_values(ascending=False)\n",
    "feature_imp"
   ]
  },
  {
   "cell_type": "markdown",
   "metadata": {},
   "source": [
    "## Visualization of Feature Importance\n",
    "\n",
    "We can also visualize the feature importance using matplotlib and seaborn, which makes it easy to understand and interpretable.\n"
   ]
  },
  {
   "cell_type": "code",
   "execution_count": 61,
   "metadata": {},
   "outputs": [
    {
     "data": {
      "text/plain": [
       "<matplotlib.axes._subplots.AxesSubplot at 0x22c65ac6e10>"
      ]
     },
     "execution_count": 61,
     "metadata": {},
     "output_type": "execute_result"
    },
    {
     "data": {
      "text/plain": [
       "Text(0.5, 0, 'Feature Importance Score')"
      ]
     },
     "execution_count": 61,
     "metadata": {},
     "output_type": "execute_result"
    },
    {
     "data": {
      "text/plain": [
       "Text(0, 0.5, 'Features')"
      ]
     },
     "execution_count": 61,
     "metadata": {},
     "output_type": "execute_result"
    },
    {
     "data": {
      "text/plain": [
       "Text(0.5, 1.0, 'Visualizing Important Features')"
      ]
     },
     "execution_count": 61,
     "metadata": {},
     "output_type": "execute_result"
    },
    {
     "name": "stderr",
     "output_type": "stream",
     "text": [
      "No handles with labels found to put in legend.\n"
     ]
    },
    {
     "data": {
      "text/plain": [
       "<matplotlib.legend.Legend at 0x22c6547cdd8>"
      ]
     },
     "execution_count": 61,
     "metadata": {},
     "output_type": "execute_result"
    },
    {
     "data": {
      "image/png": "[encoded data removed]",
      "text/plain": [
       "<Figure size 432x288 with 1 Axes>"
      ]
     },
     "metadata": {
      "needs_background": "light"
     },
     "output_type": "display_data"
    }
   ],
   "source": [
    "import matplotlib.pyplot as plt\n",
    "import seaborn as sns\n",
    "%matplotlib inline\n",
    "\n",
    "# Creating a bar plot\n",
    "sns.barplot(x=feature_imp, y=feature_imp.index)\n",
    "\n",
    "# Add labels to your graph\n",
    "plt.xlabel('Feature Importance Score')\n",
    "plt.ylabel('Features')\n",
    "plt.title(\"Visualizing Important Features\")\n",
    "plt.legend()\n",
    "plt.show()"
   ]
  },
  {
   "cell_type": "markdown",
   "metadata": {},
   "source": [
    "The above chart corresponds with the feature importance scores represented above."
   ]
  },
  {
   "cell_type": "markdown",
   "metadata": {},
   "source": [
    "## Evaluating Performance"
   ]
  },
  {
   "cell_type": "code",
   "execution_count": 62,
   "metadata": {},
   "outputs": [],
   "source": [
    "from sklearn.model_selection import cross_val_score\n",
    "from sklearn.metrics import classification_report, confusion_matrix\n",
    "\n",
    "RF_mc = cross_val_score(modelRF, x, y, cv=10, scoring='roc_auc')"
   ]
  },
  {
   "cell_type": "code",
   "execution_count": 63,
   "metadata": {},
   "outputs": [
    {
     "name": "stdout",
     "output_type": "stream",
     "text": [
      "=== Confusion Matrix ===\n",
      "[[4457  276]\n",
      " [ 860  407]]\n",
      "\n",
      "\n",
      "=== Classification Report ===\n",
      "              precision    recall  f1-score   support\n",
      "\n",
      "           0       0.84      0.94      0.89      4733\n",
      "           1       0.60      0.32      0.42      1267\n",
      "\n",
      "    accuracy                           0.81      6000\n",
      "   macro avg       0.72      0.63      0.65      6000\n",
      "weighted avg       0.79      0.81      0.79      6000\n",
      "\n",
      "\n",
      "\n",
      "=== All AUC Scores ===\n",
      "[0.69260096 0.69247465 0.69860056 0.68619471 0.71275556 0.73261529\n",
      " 0.739973   0.72041293 0.73760337 0.71865186]\n",
      "\n",
      "\n",
      "=== Mean AUC Score ===\n",
      "Mean AUC Score - Random Forest:  0.7131882890824538\n"
     ]
    }
   ],
   "source": [
    "# print out the results of evaluation\n",
    "print(\"=== Confusion Matrix ===\")\n",
    "print(confusion_matrix(y_test, y_pred))\n",
    "print('\\n')\n",
    "print(\"=== Classification Report ===\")\n",
    "print(classification_report(y_test, y_pred))\n",
    "print('\\n')\n",
    "print(\"=== All AUC Scores ===\")\n",
    "print(RF_mc)\n",
    "print('\\n')\n",
    "print(\"=== Mean AUC Score ===\")\n",
    "print(\"Mean AUC Score - Random Forest: \", RF_mc.mean())"
   ]
  },
  {
   "cell_type": "markdown",
   "metadata": {},
   "source": [
    "The confusion matrix above, classification report tells us the accuracy of your model. The ROC curve plots out the true positive rate versus the false positive rate at various thresholds. The roc_auc scoring used in the cross-validation model shows the area under the ROC curve. We’ll evaluate our model’s score based on the roc_auc score, which is .712. \n",
    "The next thing to consider is tunning the hyperparameters to see if the model performance can be improved.\n",
    "\n",
    "## Tuning Hyperparameters\n",
    "\n",
    "According to Will Koehrsen article \"https://towardsdatascience.com/hyperparameter-tuning-the-random-forest-in-python-using-scikit-learn-28d2aa77dd74\", \"In the case of a random forest, hyperparameters include the number of decision trees in the forest and the number of features considered by each tree when splitting a node. (The parameters of a random forest are the variables and thresholds used to split each node learned during training)\"."
   ]
  },
  {
   "cell_type": "code",
   "execution_count": 64,
   "metadata": {},
   "outputs": [
    {
     "name": "stdout",
     "output_type": "stream",
     "text": [
      "Fitting 2 folds for each of 10 candidates, totalling 20 fits\n"
     ]
    },
    {
     "name": "stderr",
     "output_type": "stream",
     "text": [
      "[Parallel(n_jobs=-1)]: Using backend LokyBackend with 2 concurrent workers.\n",
      "[Parallel(n_jobs=-1)]: Done  20 out of  20 | elapsed: 17.0min finished\n"
     ]
    },
    {
     "data": {
      "text/plain": [
       "RandomizedSearchCV(cv=2, error_score='raise-deprecating',\n",
       "                   estimator=RandomForestClassifier(bootstrap=True,\n",
       "                                                    class_weight=None,\n",
       "                                                    criterion='gini',\n",
       "                                                    max_depth=None,\n",
       "                                                    max_features='auto',\n",
       "                                                    max_leaf_nodes=None,\n",
       "                                                    min_impurity_decrease=0.0,\n",
       "                                                    min_impurity_split=None,\n",
       "                                                    min_samples_leaf=1,\n",
       "                                                    min_samples_split=2,\n",
       "                                                    min_weight_fraction_leaf=0.0,\n",
       "                                                    n_estimators=10,\n",
       "                                                    n_jobs=None,\n",
       "                                                    oob_score=...\n",
       "                                                    random_state=None,\n",
       "                                                    verbose=0,\n",
       "                                                    warm_start=False),\n",
       "                   iid='warn', n_iter=10, n_jobs=-1,\n",
       "                   param_distributions={'max_depth': [100, 140, 180, 220, 260,\n",
       "                                                      300, 340, 380, 420, 460,\n",
       "                                                      500, None],\n",
       "                                        'max_features': ['auto', 'sqrt'],\n",
       "                                        'n_estimators': [200, 400, 600, 800,\n",
       "                                                         1000, 1200, 1400, 1600,\n",
       "                                                         1800, 2000]},\n",
       "                   pre_dispatch='2*n_jobs', random_state=50, refit=True,\n",
       "                   return_train_score=False, scoring=None, verbose=2)"
      ]
     },
     "execution_count": 64,
     "metadata": {},
     "output_type": "execute_result"
    },
    {
     "name": "stdout",
     "output_type": "stream",
     "text": [
      "{'n_estimators': 1800, 'max_features': 'sqrt', 'max_depth': 140}\n"
     ]
    }
   ],
   "source": [
    "# use RandomizedSearchCV from sklearn to optimize our hyperparamaters. Will keep low Kfold CV due to large data set\n",
    "from sklearn.model_selection import RandomizedSearchCV\n",
    "\n",
    "# number of trees in random forest\n",
    "n_estimators = [int(x) for x in np.linspace(start = 200, stop = 2000, num = 10)]\n",
    "\n",
    "# number of features at every split\n",
    "max_features = ['auto', 'sqrt']\n",
    "\n",
    "# max depth\n",
    "max_depth = [int(x) for x in np.linspace(100, 500, num = 11)]\n",
    "max_depth.append(None)\n",
    "\n",
    "# create random grid\n",
    "random_grid = {\n",
    " 'n_estimators': n_estimators,\n",
    " 'max_features': max_features,\n",
    " 'max_depth': max_depth\n",
    " }\n",
    "\n",
    "# Random search of parameters\n",
    "RF_random = RandomizedSearchCV(estimator = modelRF, param_distributions = random_grid, n_iter = 10, cv = 2, verbose=2, random_state=50, n_jobs = -1)\n",
    "\n",
    "# Fit the model\n",
    "RF_random.fit(x_train, y_train)\n",
    "\n",
    "# print results\n",
    "print(RF_random.best_params_)"
   ]
  },
  {
   "cell_type": "markdown",
   "metadata": {},
   "source": [
    "The result above is plugged back into the model to see if it improves the performance."
   ]
  },
  {
   "cell_type": "code",
   "execution_count": 65,
   "metadata": {},
   "outputs": [
    {
     "data": {
      "text/plain": [
       "RandomForestClassifier(bootstrap=True, class_weight=None, criterion='gini',\n",
       "                       max_depth=100, max_features='sqrt', max_leaf_nodes=None,\n",
       "                       min_impurity_decrease=0.0, min_impurity_split=None,\n",
       "                       min_samples_leaf=1, min_samples_split=2,\n",
       "                       min_weight_fraction_leaf=0.0, n_estimators=1400,\n",
       "                       n_jobs=None, oob_score=False, random_state=None,\n",
       "                       verbose=0, warm_start=False)"
      ]
     },
     "execution_count": 65,
     "metadata": {},
     "output_type": "execute_result"
    },
    {
     "name": "stdout",
     "output_type": "stream",
     "text": [
      "=== Confusion Matrix ===\n",
      "[[4465  268]\n",
      " [ 823  444]]\n",
      "\n",
      "\n",
      "=== Classification Report ===\n",
      "              precision    recall  f1-score   support\n",
      "\n",
      "           0       0.84      0.94      0.89      4733\n",
      "           1       0.62      0.35      0.45      1267\n",
      "\n",
      "    accuracy                           0.82      6000\n",
      "   macro avg       0.73      0.65      0.67      6000\n",
      "weighted avg       0.80      0.82      0.80      6000\n",
      "\n",
      "\n",
      "\n",
      "=== All AUC Scores ===\n",
      "[0.71578354 0.72026714 0.72918503 0.70844385 0.73870256 0.76256621\n",
      " 0.77286624 0.74507286 0.75173105 0.75043389]\n",
      "\n",
      "\n",
      "=== Mean AUC Score ===\n",
      "Mean AUC Score - Random Forest:  0.7395052388371018\n"
     ]
    }
   ],
   "source": [
    "# Input the hyperparameters tuning results into random forest model\n",
    "modelRF = RandomForestClassifier(n_estimators=1400, max_depth=100, max_features='sqrt')\n",
    "\n",
    "modelRF.fit(x_train,y_train)\n",
    "y_pred = modelRF.predict(x_test)\n",
    "RF_mc = cross_val_score(modelRF, x, y, cv=10, scoring='roc_auc')\n",
    "\n",
    "print(\"=== Confusion Matrix ===\")\n",
    "print(confusion_matrix(y_test, y_pred))\n",
    "print('\\n')\n",
    "print(\"=== Classification Report ===\")\n",
    "print(classification_report(y_test, y_pred))\n",
    "print('\\n')\n",
    "print(\"=== All AUC Scores ===\")\n",
    "print(RF_mc)\n",
    "print('\\n')\n",
    "print(\"=== Mean AUC Score ===\")\n",
    "print(\"Mean AUC Score - Random Forest: \", RF_mc.mean())"
   ]
  },
  {
   "cell_type": "markdown",
   "metadata": {},
   "source": [
    "From the output above, there was a slight improvement in the results. Our roc_auc score improved from 71% to about 74%.\n",
    "The confusion matrix above represents that the model correctly predicted that client's behavior of not default (Y = 0) about 74% of the time."
   ]
  }
 ],
 "metadata": {
  "kernelspec": {
   "display_name": "Python 3",
   "language": "python",
   "name": "python3"
  },
  "language_info": {
   "codemirror_mode": {
    "name": "ipython",
    "version": 3
   },
   "file_extension": ".py",
   "mimetype": "text/x-python",
   "name": "python",
   "nbconvert_exporter": "python",
   "pygments_lexer": "ipython3",
   "version": "3.7.3"
  }
 },
 "nbformat": 4,
 "nbformat_minor": 2
}
